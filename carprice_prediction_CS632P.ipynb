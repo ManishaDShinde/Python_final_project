{
  "nbformat": 4,
  "nbformat_minor": 0,
  "metadata": {
    "kernelspec": {
      "display_name": "Python 3",
      "language": "python",
      "name": "python3"
    },
    "language_info": {
      "codemirror_mode": {
        "name": "ipython",
        "version": 3
      },
      "file_extension": ".py",
      "mimetype": "text/x-python",
      "name": "python",
      "nbconvert_exporter": "python",
      "pygments_lexer": "ipython3",
      "version": "3.7.6"
    },
    "papermill": {
      "duration": 51.212716,
      "end_time": "2020-11-28T09:02:07.263901",
      "environment_variables": {},
      "exception": null,
      "input_path": "__notebook__.ipynb",
      "output_path": "__notebook__.ipynb",
      "parameters": {},
      "start_time": "2020-11-28T09:01:16.051185",
      "version": "2.1.0"
    },
    "colab": {
      "name": "carprice_prediction_CS632P.ipynb",
      "provenance": [],
      "include_colab_link": true
    }
  },
  "cells": [
    {
      "cell_type": "markdown",
      "metadata": {
        "id": "view-in-github",
        "colab_type": "text"
      },
      "source": [
        "<a href=\"https://colab.research.google.com/github/ManishaDShinde/Python_final_project/blob/main/carprice_prediction_CS632P.ipynb\" target=\"_parent\"><img src=\"https://colab.research.google.com/assets/colab-badge.svg\" alt=\"Open In Colab\"/></a>"
      ]
    },
    {
      "cell_type": "markdown",
      "metadata": {
        "papermill": {
          "duration": 0.078401,
          "end_time": "2020-11-28T09:01:20.460481",
          "exception": false,
          "start_time": "2020-11-28T09:01:20.382080",
          "status": "completed"
        },
        "tags": [],
        "id": "6J_Yqsx--Ooy"
      },
      "source": [
        "#Car Price Data Set\n",
        "\n",
        "---\n",
        "\n"
      ]
    },
    {
      "cell_type": "markdown",
      "metadata": {
        "papermill": {
          "duration": 0.070902,
          "end_time": "2020-11-28T09:01:20.754557",
          "exception": false,
          "start_time": "2020-11-28T09:01:20.683655",
          "status": "completed"
        },
        "tags": [],
        "id": "u0v5FIHs-Ooy"
      },
      "source": [
        "#Importing Libraries"
      ]
    },
    {
      "cell_type": "code",
      "metadata": {
        "execution": {
          "iopub.execute_input": "2020-11-28T09:01:20.917546Z",
          "iopub.status.busy": "2020-11-28T09:01:20.916770Z",
          "iopub.status.idle": "2020-11-28T09:01:24.076391Z",
          "shell.execute_reply": "2020-11-28T09:01:24.075586Z"
        },
        "papermill": {
          "duration": 3.248247,
          "end_time": "2020-11-28T09:01:24.076519",
          "exception": false,
          "start_time": "2020-11-28T09:01:20.828272",
          "status": "completed"
        },
        "tags": [],
        "colab": {
          "base_uri": "https://localhost:8080/",
          "height": 17
        },
        "id": "eqcW0yFI-Ooy",
        "outputId": "a4c03ffc-de98-4887-f430-d869a1dece11"
      },
      "source": [
        "import numpy as np\n",
        "import pandas as pd\n",
        "import matplotlib.pyplot as plt\n",
        "%matplotlib inline\n",
        "import seaborn as sns\n",
        "import plotly.offline as py\n",
        "py.init_notebook_mode(connected = True)\n",
        "import plotly.graph_objs as go\n",
        "from sklearn.model_selection import train_test_split\n",
        "from sklearn.linear_model import LinearRegression\n",
        "from sklearn import metrics\n",
        "import plotly.figure_factory as ff\n",
        "from sklearn.metrics import confusion_matrix,accuracy_score,classification_report\n",
        "from sklearn.metrics import f1_score\n",
        "from sklearn.metrics import precision_score,recall_score\n",
        "import warnings\n",
        "warnings.filterwarnings(\"ignore\")"
      ],
      "execution_count": 1,
      "outputs": [
        {
          "output_type": "display_data",
          "data": {
            "text/html": [
              "        <script type=\"text/javascript\">\n",
              "        window.PlotlyConfig = {MathJaxConfig: 'local'};\n",
              "        if (window.MathJax) {MathJax.Hub.Config({SVG: {font: \"STIX-Web\"}});}\n",
              "        if (typeof require !== 'undefined') {\n",
              "        require.undef(\"plotly\");\n",
              "        requirejs.config({\n",
              "            paths: {\n",
              "                'plotly': ['https://cdn.plot.ly/plotly-latest.min']\n",
              "            }\n",
              "        });\n",
              "        require(['plotly'], function(Plotly) {\n",
              "            window._Plotly = Plotly;\n",
              "        });\n",
              "        }\n",
              "        </script>\n",
              "        "
            ]
          },
          "metadata": {
            "tags": []
          }
        }
      ]
    },
    {
      "cell_type": "markdown",
      "metadata": {
        "papermill": {
          "duration": 0.076649,
          "end_time": "2020-11-28T09:01:24.231685",
          "exception": false,
          "start_time": "2020-11-28T09:01:24.155036",
          "status": "completed"
        },
        "tags": [],
        "id": "tdUuYo5l-Oo0"
      },
      "source": [
        "##Data Loading"
      ]
    },
    {
      "cell_type": "code",
      "metadata": {
        "execution": {
          "iopub.execute_input": "2020-11-28T09:01:24.390673Z",
          "iopub.status.busy": "2020-11-28T09:01:24.389955Z",
          "iopub.status.idle": "2020-11-28T09:01:24.404698Z",
          "shell.execute_reply": "2020-11-28T09:01:24.404123Z"
        },
        "papermill": {
          "duration": 0.09821,
          "end_time": "2020-11-28T09:01:24.404820",
          "exception": false,
          "start_time": "2020-11-28T09:01:24.306610",
          "status": "completed"
        },
        "tags": [],
        "id": "lFKQVP1O-Oo0"
      },
      "source": [
        "carprice = pd.read_csv('https://raw.githubusercontent.com/ManishaDShinde/Python_final_project/main/CarPrice.csv')"
      ],
      "execution_count": 2,
      "outputs": []
    },
    {
      "cell_type": "markdown",
      "metadata": {
        "papermill": {
          "duration": 0.074931,
          "end_time": "2020-11-28T09:01:24.555352",
          "exception": false,
          "start_time": "2020-11-28T09:01:24.480421",
          "status": "completed"
        },
        "tags": [],
        "id": "5T_BMGiN-Oo0"
      },
      "source": [
        "##Data Description"
      ]
    },
    {
      "cell_type": "code",
      "metadata": {
        "execution": {
          "iopub.execute_input": "2020-11-28T09:01:24.736364Z",
          "iopub.status.busy": "2020-11-28T09:01:24.735352Z",
          "iopub.status.idle": "2020-11-28T09:01:24.751024Z",
          "shell.execute_reply": "2020-11-28T09:01:24.751601Z"
        },
        "papermill": {
          "duration": 0.122578,
          "end_time": "2020-11-28T09:01:24.751754",
          "exception": false,
          "start_time": "2020-11-28T09:01:24.629176",
          "status": "completed"
        },
        "tags": [],
        "colab": {
          "base_uri": "https://localhost:8080/",
          "height": 266
        },
        "id": "PFrbRQwm-Oo0",
        "outputId": "538ff49a-3dff-4018-de2f-063930ef74ad"
      },
      "source": [
        "carprice.head()"
      ],
      "execution_count": 3,
      "outputs": [
        {
          "output_type": "execute_result",
          "data": {
            "text/html": [
              "<div>\n",
              "<style scoped>\n",
              "    .dataframe tbody tr th:only-of-type {\n",
              "        vertical-align: middle;\n",
              "    }\n",
              "\n",
              "    .dataframe tbody tr th {\n",
              "        vertical-align: top;\n",
              "    }\n",
              "\n",
              "    .dataframe thead th {\n",
              "        text-align: right;\n",
              "    }\n",
              "</style>\n",
              "<table border=\"1\" class=\"dataframe\">\n",
              "  <thead>\n",
              "    <tr style=\"text-align: right;\">\n",
              "      <th></th>\n",
              "      <th>car_ID</th>\n",
              "      <th>symboling</th>\n",
              "      <th>CarName</th>\n",
              "      <th>fueltype</th>\n",
              "      <th>aspiration</th>\n",
              "      <th>doornumber</th>\n",
              "      <th>carbody</th>\n",
              "      <th>drivewheel</th>\n",
              "      <th>enginelocation</th>\n",
              "      <th>wheelbase</th>\n",
              "      <th>carlength</th>\n",
              "      <th>carwidth</th>\n",
              "      <th>carheight</th>\n",
              "      <th>curbweight</th>\n",
              "      <th>enginetype</th>\n",
              "      <th>cylindernumber</th>\n",
              "      <th>enginesize</th>\n",
              "      <th>fuelsystem</th>\n",
              "      <th>boreratio</th>\n",
              "      <th>stroke</th>\n",
              "      <th>compressionratio</th>\n",
              "      <th>horsepower</th>\n",
              "      <th>peakrpm</th>\n",
              "      <th>citympg</th>\n",
              "      <th>highwaympg</th>\n",
              "      <th>price</th>\n",
              "    </tr>\n",
              "  </thead>\n",
              "  <tbody>\n",
              "    <tr>\n",
              "      <th>0</th>\n",
              "      <td>1</td>\n",
              "      <td>3</td>\n",
              "      <td>alfa-romero giulia</td>\n",
              "      <td>gas</td>\n",
              "      <td>std</td>\n",
              "      <td>two</td>\n",
              "      <td>convertible</td>\n",
              "      <td>rwd</td>\n",
              "      <td>front</td>\n",
              "      <td>88.6</td>\n",
              "      <td>168.8</td>\n",
              "      <td>64.1</td>\n",
              "      <td>48.8</td>\n",
              "      <td>2548</td>\n",
              "      <td>dohc</td>\n",
              "      <td>four</td>\n",
              "      <td>130</td>\n",
              "      <td>mpfi</td>\n",
              "      <td>3.47</td>\n",
              "      <td>2.68</td>\n",
              "      <td>9.0</td>\n",
              "      <td>111</td>\n",
              "      <td>5000</td>\n",
              "      <td>21</td>\n",
              "      <td>27</td>\n",
              "      <td>13495.0</td>\n",
              "    </tr>\n",
              "    <tr>\n",
              "      <th>1</th>\n",
              "      <td>2</td>\n",
              "      <td>3</td>\n",
              "      <td>alfa-romero stelvio</td>\n",
              "      <td>gas</td>\n",
              "      <td>std</td>\n",
              "      <td>two</td>\n",
              "      <td>convertible</td>\n",
              "      <td>rwd</td>\n",
              "      <td>front</td>\n",
              "      <td>88.6</td>\n",
              "      <td>168.8</td>\n",
              "      <td>64.1</td>\n",
              "      <td>48.8</td>\n",
              "      <td>2548</td>\n",
              "      <td>dohc</td>\n",
              "      <td>four</td>\n",
              "      <td>130</td>\n",
              "      <td>mpfi</td>\n",
              "      <td>3.47</td>\n",
              "      <td>2.68</td>\n",
              "      <td>9.0</td>\n",
              "      <td>111</td>\n",
              "      <td>5000</td>\n",
              "      <td>21</td>\n",
              "      <td>27</td>\n",
              "      <td>16500.0</td>\n",
              "    </tr>\n",
              "    <tr>\n",
              "      <th>2</th>\n",
              "      <td>3</td>\n",
              "      <td>1</td>\n",
              "      <td>alfa-romero Quadrifoglio</td>\n",
              "      <td>gas</td>\n",
              "      <td>std</td>\n",
              "      <td>two</td>\n",
              "      <td>hatchback</td>\n",
              "      <td>rwd</td>\n",
              "      <td>front</td>\n",
              "      <td>94.5</td>\n",
              "      <td>171.2</td>\n",
              "      <td>65.5</td>\n",
              "      <td>52.4</td>\n",
              "      <td>2823</td>\n",
              "      <td>ohcv</td>\n",
              "      <td>six</td>\n",
              "      <td>152</td>\n",
              "      <td>mpfi</td>\n",
              "      <td>2.68</td>\n",
              "      <td>3.47</td>\n",
              "      <td>9.0</td>\n",
              "      <td>154</td>\n",
              "      <td>5000</td>\n",
              "      <td>19</td>\n",
              "      <td>26</td>\n",
              "      <td>16500.0</td>\n",
              "    </tr>\n",
              "    <tr>\n",
              "      <th>3</th>\n",
              "      <td>4</td>\n",
              "      <td>2</td>\n",
              "      <td>audi 100 ls</td>\n",
              "      <td>gas</td>\n",
              "      <td>std</td>\n",
              "      <td>four</td>\n",
              "      <td>sedan</td>\n",
              "      <td>fwd</td>\n",
              "      <td>front</td>\n",
              "      <td>99.8</td>\n",
              "      <td>176.6</td>\n",
              "      <td>66.2</td>\n",
              "      <td>54.3</td>\n",
              "      <td>2337</td>\n",
              "      <td>ohc</td>\n",
              "      <td>four</td>\n",
              "      <td>109</td>\n",
              "      <td>mpfi</td>\n",
              "      <td>3.19</td>\n",
              "      <td>3.40</td>\n",
              "      <td>10.0</td>\n",
              "      <td>102</td>\n",
              "      <td>5500</td>\n",
              "      <td>24</td>\n",
              "      <td>30</td>\n",
              "      <td>13950.0</td>\n",
              "    </tr>\n",
              "    <tr>\n",
              "      <th>4</th>\n",
              "      <td>5</td>\n",
              "      <td>2</td>\n",
              "      <td>audi 100ls</td>\n",
              "      <td>gas</td>\n",
              "      <td>std</td>\n",
              "      <td>four</td>\n",
              "      <td>sedan</td>\n",
              "      <td>4wd</td>\n",
              "      <td>front</td>\n",
              "      <td>99.4</td>\n",
              "      <td>176.6</td>\n",
              "      <td>66.4</td>\n",
              "      <td>54.3</td>\n",
              "      <td>2824</td>\n",
              "      <td>ohc</td>\n",
              "      <td>five</td>\n",
              "      <td>136</td>\n",
              "      <td>mpfi</td>\n",
              "      <td>3.19</td>\n",
              "      <td>3.40</td>\n",
              "      <td>8.0</td>\n",
              "      <td>115</td>\n",
              "      <td>5500</td>\n",
              "      <td>18</td>\n",
              "      <td>22</td>\n",
              "      <td>17450.0</td>\n",
              "    </tr>\n",
              "  </tbody>\n",
              "</table>\n",
              "</div>"
            ],
            "text/plain": [
              "   car_ID  symboling                   CarName  ... citympg highwaympg    price\n",
              "0       1          3        alfa-romero giulia  ...      21         27  13495.0\n",
              "1       2          3       alfa-romero stelvio  ...      21         27  16500.0\n",
              "2       3          1  alfa-romero Quadrifoglio  ...      19         26  16500.0\n",
              "3       4          2               audi 100 ls  ...      24         30  13950.0\n",
              "4       5          2                audi 100ls  ...      18         22  17450.0\n",
              "\n",
              "[5 rows x 26 columns]"
            ]
          },
          "metadata": {
            "tags": []
          },
          "execution_count": 3
        }
      ]
    },
    {
      "cell_type": "markdown",
      "metadata": {
        "id": "7qOJkAi51Ypy"
      },
      "source": [
        "# Data Information"
      ]
    },
    {
      "cell_type": "code",
      "metadata": {
        "execution": {
          "iopub.execute_input": "2020-11-28T09:01:24.916795Z",
          "iopub.status.busy": "2020-11-28T09:01:24.916006Z",
          "iopub.status.idle": "2020-11-28T09:01:24.919514Z",
          "shell.execute_reply": "2020-11-28T09:01:24.920236Z"
        },
        "papermill": {
          "duration": 0.091655,
          "end_time": "2020-11-28T09:01:24.920452",
          "exception": false,
          "start_time": "2020-11-28T09:01:24.828797",
          "status": "completed"
        },
        "tags": [],
        "colab": {
          "base_uri": "https://localhost:8080/"
        },
        "id": "F7iZEKUG-Oo0",
        "outputId": "5450aaac-e736-4f8c-c891-a37e2075eace"
      },
      "source": [
        "print('\\033[1mRows :\\033[0m' , carprice.shape[0])\n",
        "print('\\033[1m\\nColumns :\\033[0m', carprice.shape[1])\n",
        "print('\\033[1m\\nFeatures :\\033[0m', carprice.columns.tolist())\n",
        "print('\\033[1m\\nNull Values :\\033[0m',carprice.isnull().sum().values.sum())\n",
        "\n",
        "carprice.info()"
      ],
      "execution_count": 4,
      "outputs": [
        {
          "output_type": "stream",
          "text": [
            "\u001b[1mRows :\u001b[0m 205\n",
            "\u001b[1m\n",
            "Columns :\u001b[0m 26\n",
            "\u001b[1m\n",
            "Features :\u001b[0m ['car_ID', 'symboling', 'CarName', 'fueltype', 'aspiration', 'doornumber', 'carbody', 'drivewheel', 'enginelocation', 'wheelbase', 'carlength', 'carwidth', 'carheight', 'curbweight', 'enginetype', 'cylindernumber', 'enginesize', 'fuelsystem', 'boreratio', 'stroke', 'compressionratio', 'horsepower', 'peakrpm', 'citympg', 'highwaympg', 'price']\n",
            "\u001b[1m\n",
            "Null Values :\u001b[0m 0\n",
            "<class 'pandas.core.frame.DataFrame'>\n",
            "RangeIndex: 205 entries, 0 to 204\n",
            "Data columns (total 26 columns):\n",
            " #   Column            Non-Null Count  Dtype  \n",
            "---  ------            --------------  -----  \n",
            " 0   car_ID            205 non-null    int64  \n",
            " 1   symboling         205 non-null    int64  \n",
            " 2   CarName           205 non-null    object \n",
            " 3   fueltype          205 non-null    object \n",
            " 4   aspiration        205 non-null    object \n",
            " 5   doornumber        205 non-null    object \n",
            " 6   carbody           205 non-null    object \n",
            " 7   drivewheel        205 non-null    object \n",
            " 8   enginelocation    205 non-null    object \n",
            " 9   wheelbase         205 non-null    float64\n",
            " 10  carlength         205 non-null    float64\n",
            " 11  carwidth          205 non-null    float64\n",
            " 12  carheight         205 non-null    float64\n",
            " 13  curbweight        205 non-null    int64  \n",
            " 14  enginetype        205 non-null    object \n",
            " 15  cylindernumber    205 non-null    object \n",
            " 16  enginesize        205 non-null    int64  \n",
            " 17  fuelsystem        205 non-null    object \n",
            " 18  boreratio         205 non-null    float64\n",
            " 19  stroke            205 non-null    float64\n",
            " 20  compressionratio  205 non-null    float64\n",
            " 21  horsepower        205 non-null    int64  \n",
            " 22  peakrpm           205 non-null    int64  \n",
            " 23  citympg           205 non-null    int64  \n",
            " 24  highwaympg        205 non-null    int64  \n",
            " 25  price             205 non-null    float64\n",
            "dtypes: float64(8), int64(8), object(10)\n",
            "memory usage: 41.8+ KB\n"
          ],
          "name": "stdout"
        }
      ]
    },
    {
      "cell_type": "markdown",
      "metadata": {
        "id": "j9BsgHEp1klU"
      },
      "source": [
        "#Matermatical Calucations on Data"
      ]
    },
    {
      "cell_type": "code",
      "metadata": {
        "execution": {
          "iopub.execute_input": "2020-11-28T09:01:25.265870Z",
          "iopub.status.busy": "2020-11-28T09:01:25.265156Z",
          "iopub.status.idle": "2020-11-28T09:01:25.319468Z",
          "shell.execute_reply": "2020-11-28T09:01:25.318798Z"
        },
        "papermill": {
          "duration": 0.140299,
          "end_time": "2020-11-28T09:01:25.319585",
          "exception": false,
          "start_time": "2020-11-28T09:01:25.179286",
          "status": "completed"
        },
        "tags": [],
        "colab": {
          "base_uri": "https://localhost:8080/",
          "height": 304
        },
        "id": "BcS0S1ED-Oo0",
        "outputId": "d2ec7209-cc31-4660-ff6d-af244cb423d3"
      },
      "source": [
        "carprice.describe()"
      ],
      "execution_count": 5,
      "outputs": [
        {
          "output_type": "execute_result",
          "data": {
            "text/html": [
              "<div>\n",
              "<style scoped>\n",
              "    .dataframe tbody tr th:only-of-type {\n",
              "        vertical-align: middle;\n",
              "    }\n",
              "\n",
              "    .dataframe tbody tr th {\n",
              "        vertical-align: top;\n",
              "    }\n",
              "\n",
              "    .dataframe thead th {\n",
              "        text-align: right;\n",
              "    }\n",
              "</style>\n",
              "<table border=\"1\" class=\"dataframe\">\n",
              "  <thead>\n",
              "    <tr style=\"text-align: right;\">\n",
              "      <th></th>\n",
              "      <th>car_ID</th>\n",
              "      <th>symboling</th>\n",
              "      <th>wheelbase</th>\n",
              "      <th>carlength</th>\n",
              "      <th>carwidth</th>\n",
              "      <th>carheight</th>\n",
              "      <th>curbweight</th>\n",
              "      <th>enginesize</th>\n",
              "      <th>boreratio</th>\n",
              "      <th>stroke</th>\n",
              "      <th>compressionratio</th>\n",
              "      <th>horsepower</th>\n",
              "      <th>peakrpm</th>\n",
              "      <th>citympg</th>\n",
              "      <th>highwaympg</th>\n",
              "      <th>price</th>\n",
              "    </tr>\n",
              "  </thead>\n",
              "  <tbody>\n",
              "    <tr>\n",
              "      <th>count</th>\n",
              "      <td>205.000000</td>\n",
              "      <td>205.000000</td>\n",
              "      <td>205.000000</td>\n",
              "      <td>205.000000</td>\n",
              "      <td>205.000000</td>\n",
              "      <td>205.000000</td>\n",
              "      <td>205.000000</td>\n",
              "      <td>205.000000</td>\n",
              "      <td>205.000000</td>\n",
              "      <td>205.000000</td>\n",
              "      <td>205.000000</td>\n",
              "      <td>205.000000</td>\n",
              "      <td>205.000000</td>\n",
              "      <td>205.000000</td>\n",
              "      <td>205.000000</td>\n",
              "      <td>205.000000</td>\n",
              "    </tr>\n",
              "    <tr>\n",
              "      <th>mean</th>\n",
              "      <td>103.000000</td>\n",
              "      <td>0.834146</td>\n",
              "      <td>98.756585</td>\n",
              "      <td>174.049268</td>\n",
              "      <td>65.907805</td>\n",
              "      <td>53.724878</td>\n",
              "      <td>2555.565854</td>\n",
              "      <td>126.907317</td>\n",
              "      <td>3.329756</td>\n",
              "      <td>3.255415</td>\n",
              "      <td>10.142537</td>\n",
              "      <td>104.117073</td>\n",
              "      <td>5125.121951</td>\n",
              "      <td>25.219512</td>\n",
              "      <td>30.751220</td>\n",
              "      <td>13276.710571</td>\n",
              "    </tr>\n",
              "    <tr>\n",
              "      <th>std</th>\n",
              "      <td>59.322565</td>\n",
              "      <td>1.245307</td>\n",
              "      <td>6.021776</td>\n",
              "      <td>12.337289</td>\n",
              "      <td>2.145204</td>\n",
              "      <td>2.443522</td>\n",
              "      <td>520.680204</td>\n",
              "      <td>41.642693</td>\n",
              "      <td>0.270844</td>\n",
              "      <td>0.313597</td>\n",
              "      <td>3.972040</td>\n",
              "      <td>39.544167</td>\n",
              "      <td>476.985643</td>\n",
              "      <td>6.542142</td>\n",
              "      <td>6.886443</td>\n",
              "      <td>7988.852332</td>\n",
              "    </tr>\n",
              "    <tr>\n",
              "      <th>min</th>\n",
              "      <td>1.000000</td>\n",
              "      <td>-2.000000</td>\n",
              "      <td>86.600000</td>\n",
              "      <td>141.100000</td>\n",
              "      <td>60.300000</td>\n",
              "      <td>47.800000</td>\n",
              "      <td>1488.000000</td>\n",
              "      <td>61.000000</td>\n",
              "      <td>2.540000</td>\n",
              "      <td>2.070000</td>\n",
              "      <td>7.000000</td>\n",
              "      <td>48.000000</td>\n",
              "      <td>4150.000000</td>\n",
              "      <td>13.000000</td>\n",
              "      <td>16.000000</td>\n",
              "      <td>5118.000000</td>\n",
              "    </tr>\n",
              "    <tr>\n",
              "      <th>25%</th>\n",
              "      <td>52.000000</td>\n",
              "      <td>0.000000</td>\n",
              "      <td>94.500000</td>\n",
              "      <td>166.300000</td>\n",
              "      <td>64.100000</td>\n",
              "      <td>52.000000</td>\n",
              "      <td>2145.000000</td>\n",
              "      <td>97.000000</td>\n",
              "      <td>3.150000</td>\n",
              "      <td>3.110000</td>\n",
              "      <td>8.600000</td>\n",
              "      <td>70.000000</td>\n",
              "      <td>4800.000000</td>\n",
              "      <td>19.000000</td>\n",
              "      <td>25.000000</td>\n",
              "      <td>7788.000000</td>\n",
              "    </tr>\n",
              "    <tr>\n",
              "      <th>50%</th>\n",
              "      <td>103.000000</td>\n",
              "      <td>1.000000</td>\n",
              "      <td>97.000000</td>\n",
              "      <td>173.200000</td>\n",
              "      <td>65.500000</td>\n",
              "      <td>54.100000</td>\n",
              "      <td>2414.000000</td>\n",
              "      <td>120.000000</td>\n",
              "      <td>3.310000</td>\n",
              "      <td>3.290000</td>\n",
              "      <td>9.000000</td>\n",
              "      <td>95.000000</td>\n",
              "      <td>5200.000000</td>\n",
              "      <td>24.000000</td>\n",
              "      <td>30.000000</td>\n",
              "      <td>10295.000000</td>\n",
              "    </tr>\n",
              "    <tr>\n",
              "      <th>75%</th>\n",
              "      <td>154.000000</td>\n",
              "      <td>2.000000</td>\n",
              "      <td>102.400000</td>\n",
              "      <td>183.100000</td>\n",
              "      <td>66.900000</td>\n",
              "      <td>55.500000</td>\n",
              "      <td>2935.000000</td>\n",
              "      <td>141.000000</td>\n",
              "      <td>3.580000</td>\n",
              "      <td>3.410000</td>\n",
              "      <td>9.400000</td>\n",
              "      <td>116.000000</td>\n",
              "      <td>5500.000000</td>\n",
              "      <td>30.000000</td>\n",
              "      <td>34.000000</td>\n",
              "      <td>16503.000000</td>\n",
              "    </tr>\n",
              "    <tr>\n",
              "      <th>max</th>\n",
              "      <td>205.000000</td>\n",
              "      <td>3.000000</td>\n",
              "      <td>120.900000</td>\n",
              "      <td>208.100000</td>\n",
              "      <td>72.300000</td>\n",
              "      <td>59.800000</td>\n",
              "      <td>4066.000000</td>\n",
              "      <td>326.000000</td>\n",
              "      <td>3.940000</td>\n",
              "      <td>4.170000</td>\n",
              "      <td>23.000000</td>\n",
              "      <td>288.000000</td>\n",
              "      <td>6600.000000</td>\n",
              "      <td>49.000000</td>\n",
              "      <td>54.000000</td>\n",
              "      <td>45400.000000</td>\n",
              "    </tr>\n",
              "  </tbody>\n",
              "</table>\n",
              "</div>"
            ],
            "text/plain": [
              "           car_ID   symboling   wheelbase  ...     citympg  highwaympg         price\n",
              "count  205.000000  205.000000  205.000000  ...  205.000000  205.000000    205.000000\n",
              "mean   103.000000    0.834146   98.756585  ...   25.219512   30.751220  13276.710571\n",
              "std     59.322565    1.245307    6.021776  ...    6.542142    6.886443   7988.852332\n",
              "min      1.000000   -2.000000   86.600000  ...   13.000000   16.000000   5118.000000\n",
              "25%     52.000000    0.000000   94.500000  ...   19.000000   25.000000   7788.000000\n",
              "50%    103.000000    1.000000   97.000000  ...   24.000000   30.000000  10295.000000\n",
              "75%    154.000000    2.000000  102.400000  ...   30.000000   34.000000  16503.000000\n",
              "max    205.000000    3.000000  120.900000  ...   49.000000   54.000000  45400.000000\n",
              "\n",
              "[8 rows x 16 columns]"
            ]
          },
          "metadata": {
            "tags": []
          },
          "execution_count": 5
        }
      ]
    },
    {
      "cell_type": "markdown",
      "metadata": {
        "id": "YGBUioyY1sE3"
      },
      "source": [
        "# Statical Analysis"
      ]
    },
    {
      "cell_type": "code",
      "metadata": {
        "execution": {
          "iopub.execute_input": "2020-11-28T09:01:25.481071Z",
          "iopub.status.busy": "2020-11-28T09:01:25.480305Z",
          "iopub.status.idle": "2020-11-28T09:01:25.484131Z",
          "shell.execute_reply": "2020-11-28T09:01:25.483491Z"
        },
        "papermill": {
          "duration": 0.087351,
          "end_time": "2020-11-28T09:01:25.484254",
          "exception": false,
          "start_time": "2020-11-28T09:01:25.396903",
          "status": "completed"
        },
        "tags": [],
        "id": "oZ0EwdW8-Oo0"
      },
      "source": [
        "import scipy.stats as stats"
      ],
      "execution_count": 6,
      "outputs": []
    },
    {
      "cell_type": "markdown",
      "metadata": {
        "papermill": {
          "duration": 0.081668,
          "end_time": "2020-11-28T09:01:25.644738",
          "exception": false,
          "start_time": "2020-11-28T09:01:25.563070",
          "status": "completed"
        },
        "tags": [],
        "id": "GVCPYGab-Oo0"
      },
      "source": [
        "##Bivariate Analysis (for Feature Selection)"
      ]
    },
    {
      "cell_type": "markdown",
      "metadata": {
        "id": "NQDJPG93162h"
      },
      "source": [
        "#Distribution of Each Numerical Attribute against Price"
      ]
    },
    {
      "cell_type": "code",
      "metadata": {
        "colab": {
          "base_uri": "https://localhost:8080/",
          "height": 1000
        },
        "id": "-R04DgLS15pa",
        "outputId": "efb1fbc0-b148-4f49-fd5b-6a582396aad4"
      },
      "source": [
        "print('There is not much differnce in the prices of cars when the doors are 2 or 4. Hence very low correlation.')\n",
        "plt.figure(figsize=(8,8))\n",
        "for i in carprice.columns:\n",
        "    \n",
        "    if carprice[i].dtype=='O':\n",
        "            sns.boxplot(x=carprice[i], y=carprice['price'],data=carprice)\n",
        "            plt.show()\n",
        "# There is not much differnce in the prices of cars when the doors are 2 or 4. Hence very low correlation.            "
      ],
      "execution_count": 7,
      "outputs": [
        {
          "output_type": "stream",
          "text": [
            "There is not much differnce in the prices of cars when the doors are 2 or 4. Hence very low correlation.\n"
          ],
          "name": "stdout"
        },
        {
          "output_type": "display_data",
          "data": {
            "image/png": "[encoded data removed]",
            "text/plain": [
              "<Figure size 576x576 with 1 Axes>"
            ]
          },
          "metadata": {
            "tags": [],
            "needs_background": "light"
          }
        },
        {
          "output_type": "display_data",
          "data": {
            "image/png": "[encoded data removed]",
            "text/plain": [
              "<Figure size 432x288 with 1 Axes>"
            ]
          },
          "metadata": {
            "tags": [],
            "needs_background": "light"
          }
        },
        {
          "output_type": "display_data",
          "data": {
            "image/png": "[encoded data removed]",
            "text/plain": [
              "<Figure size 432x288 with 1 Axes>"
            ]
          },
          "metadata": {
            "tags": [],
            "needs_background": "light"
          }
        },
        {
          "output_type": "display_data",
          "data": {
            "image/png": "[encoded data removed]",
            "text/plain": [
              "<Figure size 432x288 with 1 Axes>"
            ]
          },
          "metadata": {
            "tags": [],
            "needs_background": "light"
          }
        },
        {
          "output_type": "display_data",
          "data": {
            "image/png": "[encoded data removed]",
            "text/plain": [
              "<Figure size 432x288 with 1 Axes>"
            ]
          },
          "metadata": {
            "tags": [],
            "needs_background": "light"
          }
        },
        {
          "output_type": "display_data",
          "data": {
            "image/png": "[encoded data removed]",
            "text/plain": [
              "<Figure size 432x288 with 1 Axes>"
            ]
          },
          "metadata": {
            "tags": [],
            "needs_background": "light"
          }
        },
        {
          "output_type": "display_data",
          "data": {
            "image/png": "[encoded data removed]",
            "text/plain": [
              "<Figure size 432x288 with 1 Axes>"
            ]
          },
          "metadata": {
            "tags": [],
            "needs_background": "light"
          }
        },
        {
          "output_type": "display_data",
          "data": {
            "image/png": "[encoded data removed]",
            "text/plain": [
              "<Figure size 432x288 with 1 Axes>"
            ]
          },
          "metadata": {
            "tags": [],
            "needs_background": "light"
          }
        },
        {
          "output_type": "display_data",
          "data": {
            "image/png": "[encoded data removed]",
            "text/plain": [
              "<Figure size 432x288 with 1 Axes>"
            ]
          },
          "metadata": {
            "tags": [],
            "needs_background": "light"
          }
        },
        {
          "output_type": "display_data",
          "data": {
            "image/png": "[encoded data removed]",
            "text/plain": [
              "<Figure size 432x288 with 1 Axes>"
            ]
          },
          "metadata": {
            "tags": [],
            "needs_background": "light"
          }
        }
      ]
    },
    {
      "cell_type": "markdown",
      "metadata": {
        "id": "c8VjwcKz2nrT"
      },
      "source": [
        "# To visualize this better lets split the column and also rename the values in it."
      ]
    },
    {
      "cell_type": "code",
      "metadata": {
        "colab": {
          "base_uri": "https://localhost:8080/"
        },
        "id": "8t1ibXzj2sdh",
        "outputId": "2abe41e9-afe1-41ea-d327-8b114feffb5b"
      },
      "source": [
        "carprice.columns"
      ],
      "execution_count": 8,
      "outputs": [
        {
          "output_type": "execute_result",
          "data": {
            "text/plain": [
              "Index(['car_ID', 'symboling', 'CarName', 'fueltype', 'aspiration',\n",
              "       'doornumber', 'carbody', 'drivewheel', 'enginelocation', 'wheelbase',\n",
              "       'carlength', 'carwidth', 'carheight', 'curbweight', 'enginetype',\n",
              "       'cylindernumber', 'enginesize', 'fuelsystem', 'boreratio', 'stroke',\n",
              "       'compressionratio', 'horsepower', 'peakrpm', 'citympg', 'highwaympg',\n",
              "       'price'],\n",
              "      dtype='object')"
            ]
          },
          "metadata": {
            "tags": []
          },
          "execution_count": 8
        }
      ]
    },
    {
      "cell_type": "markdown",
      "metadata": {
        "papermill": {
          "duration": 0.08948,
          "end_time": "2020-11-28T09:01:31.986598",
          "exception": false,
          "start_time": "2020-11-28T09:01:31.897118",
          "status": "completed"
        },
        "tags": [],
        "id": "yQZxaL4G-Oo1"
      },
      "source": [
        "Looking at the values we can see spelling mistakes in the company names as well as car model names. We will therefore split the column into company name and car model name."
      ]
    },
    {
      "cell_type": "code",
      "metadata": {
        "execution": {
          "iopub.execute_input": "2020-11-28T09:01:31.806554Z",
          "iopub.status.busy": "2020-11-28T09:01:31.805784Z",
          "iopub.status.idle": "2020-11-28T09:01:31.809562Z",
          "shell.execute_reply": "2020-11-28T09:01:31.809051Z"
        },
        "papermill": {
          "duration": 0.095895,
          "end_time": "2020-11-28T09:01:31.809670",
          "exception": false,
          "start_time": "2020-11-28T09:01:31.713775",
          "status": "completed"
        },
        "tags": [],
        "colab": {
          "base_uri": "https://localhost:8080/"
        },
        "id": "DgJosjKS-Oo1",
        "outputId": "62862f62-2ccb-4537-eb53-c07b84a516b2"
      },
      "source": [
        "carprice['CarName']"
      ],
      "execution_count": 9,
      "outputs": [
        {
          "output_type": "execute_result",
          "data": {
            "text/plain": [
              "0            alfa-romero giulia\n",
              "1           alfa-romero stelvio\n",
              "2      alfa-romero Quadrifoglio\n",
              "3                   audi 100 ls\n",
              "4                    audi 100ls\n",
              "                 ...           \n",
              "200             volvo 145e (sw)\n",
              "201                 volvo 144ea\n",
              "202                 volvo 244dl\n",
              "203                   volvo 246\n",
              "204                 volvo 264gl\n",
              "Name: CarName, Length: 205, dtype: object"
            ]
          },
          "metadata": {
            "tags": []
          },
          "execution_count": 9
        }
      ]
    },
    {
      "cell_type": "code",
      "metadata": {
        "execution": {
          "iopub.execute_input": "2020-11-28T09:01:32.172244Z",
          "iopub.status.busy": "2020-11-28T09:01:32.171604Z",
          "iopub.status.idle": "2020-11-28T09:01:32.174628Z",
          "shell.execute_reply": "2020-11-28T09:01:32.173935Z"
        },
        "papermill": {
          "duration": 0.099861,
          "end_time": "2020-11-28T09:01:32.174735",
          "exception": false,
          "start_time": "2020-11-28T09:01:32.074874",
          "status": "completed"
        },
        "tags": [],
        "id": "Kui27Xtx-Oo1"
      },
      "source": [
        "x = carprice['CarName'].str.split(\" \", expand=True)"
      ],
      "execution_count": 10,
      "outputs": []
    },
    {
      "cell_type": "code",
      "metadata": {
        "execution": {
          "iopub.execute_input": "2020-11-28T09:01:32.352580Z",
          "iopub.status.busy": "2020-11-28T09:01:32.351716Z",
          "iopub.status.idle": "2020-11-28T09:01:32.354866Z",
          "shell.execute_reply": "2020-11-28T09:01:32.354186Z"
        },
        "papermill": {
          "duration": 0.09328,
          "end_time": "2020-11-28T09:01:32.354981",
          "exception": false,
          "start_time": "2020-11-28T09:01:32.261701",
          "status": "completed"
        },
        "tags": [],
        "id": "w2JCfr8v-Oo1"
      },
      "source": [
        "carprice['Company'] = x[0].values"
      ],
      "execution_count": 11,
      "outputs": []
    },
    {
      "cell_type": "code",
      "metadata": {
        "execution": {
          "iopub.execute_input": "2020-11-28T09:01:32.538848Z",
          "iopub.status.busy": "2020-11-28T09:01:32.537833Z",
          "iopub.status.idle": "2020-11-28T09:01:32.542464Z",
          "shell.execute_reply": "2020-11-28T09:01:32.541763Z"
        },
        "papermill": {
          "duration": 0.099759,
          "end_time": "2020-11-28T09:01:32.542567",
          "exception": false,
          "start_time": "2020-11-28T09:01:32.442808",
          "status": "completed"
        },
        "tags": [],
        "colab": {
          "base_uri": "https://localhost:8080/"
        },
        "id": "v0c_nWno-Oo1",
        "outputId": "1f800b13-0019-4a0e-db0d-1c8fe687279f"
      },
      "source": [
        "carprice['Company'].value_counts()"
      ],
      "execution_count": 12,
      "outputs": [
        {
          "output_type": "execute_result",
          "data": {
            "text/plain": [
              "toyota         31\n",
              "nissan         17\n",
              "mazda          15\n",
              "mitsubishi     13\n",
              "honda          13\n",
              "subaru         12\n",
              "volvo          11\n",
              "peugeot        11\n",
              "volkswagen      9\n",
              "dodge           9\n",
              "buick           8\n",
              "bmw             8\n",
              "plymouth        7\n",
              "audi            7\n",
              "saab            6\n",
              "isuzu           4\n",
              "porsche         4\n",
              "jaguar          3\n",
              "chevrolet       3\n",
              "alfa-romero     3\n",
              "vw              2\n",
              "renault         2\n",
              "maxda           2\n",
              "Nissan          1\n",
              "mercury         1\n",
              "porcshce        1\n",
              "toyouta         1\n",
              "vokswagen       1\n",
              "Name: Company, dtype: int64"
            ]
          },
          "metadata": {
            "tags": []
          },
          "execution_count": 12
        }
      ]
    },
    {
      "cell_type": "code",
      "metadata": {
        "execution": {
          "iopub.execute_input": "2020-11-28T09:01:32.725974Z",
          "iopub.status.busy": "2020-11-28T09:01:32.725345Z",
          "iopub.status.idle": "2020-11-28T09:01:32.728385Z",
          "shell.execute_reply": "2020-11-28T09:01:32.727840Z"
        },
        "papermill": {
          "duration": 0.097842,
          "end_time": "2020-11-28T09:01:32.728487",
          "exception": false,
          "start_time": "2020-11-28T09:01:32.630645",
          "status": "completed"
        },
        "tags": [],
        "id": "Wtpf4dTR-Oo1"
      },
      "source": [
        "carprice['Company'] = carprice['Company'].replace({'toyouta': 'Toyota','vw':'Volkswagen','vokswagen':'Volkswagen',\n",
        "                                                      'maxda':'Mazda','porcshce':'Porsche'})"
      ],
      "execution_count": 13,
      "outputs": []
    },
    {
      "cell_type": "code",
      "metadata": {
        "execution": {
          "iopub.execute_input": "2020-11-28T09:01:32.910138Z",
          "iopub.status.busy": "2020-11-28T09:01:32.909498Z",
          "iopub.status.idle": "2020-11-28T09:01:32.912565Z",
          "shell.execute_reply": "2020-11-28T09:01:32.911973Z"
        },
        "papermill": {
          "duration": 0.097015,
          "end_time": "2020-11-28T09:01:32.912700",
          "exception": false,
          "start_time": "2020-11-28T09:01:32.815685",
          "status": "completed"
        },
        "tags": [],
        "id": "82NhCPm--Oo1"
      },
      "source": [
        "carprice['Company'] = carprice['Company'].str.title()"
      ],
      "execution_count": 14,
      "outputs": []
    },
    {
      "cell_type": "markdown",
      "metadata": {
        "papermill": {
          "duration": 0.110733,
          "end_time": "2020-11-28T09:01:33.908530",
          "exception": false,
          "start_time": "2020-11-28T09:01:33.797797",
          "status": "completed"
        },
        "tags": [],
        "id": "o4W5uqhE-Oo1"
      },
      "source": [
        "From th below visulizations we can clearly see how widely the prices vary from company to company. We therefore can use this feature to train our model and predict price based on company names rather than using car name (models)."
      ]
    },
    {
      "cell_type": "code",
      "metadata": {
        "execution": {
          "iopub.execute_input": "2020-11-28T09:01:33.165525Z",
          "iopub.status.busy": "2020-11-28T09:01:33.164854Z",
          "iopub.status.idle": "2020-11-28T09:01:33.647758Z",
          "shell.execute_reply": "2020-11-28T09:01:33.647065Z"
        },
        "papermill": {
          "duration": 0.602978,
          "end_time": "2020-11-28T09:01:33.647864",
          "exception": false,
          "start_time": "2020-11-28T09:01:33.044886",
          "status": "completed"
        },
        "tags": [],
        "colab": {
          "base_uri": "https://localhost:8080/",
          "height": 545
        },
        "id": "TTYJKX-X-Oo1",
        "outputId": "5456c340-dbd1-4b00-9c9d-f52942465b84"
      },
      "source": [
        "plt.figure(figsize=(10,8))\n",
        "sns.boxplot(carprice['Company'], y=carprice['price'], data=carprice)\n",
        "plt.xticks(rotation=60)\n",
        "plt.show()"
      ],
      "execution_count": 15,
      "outputs": [
        {
          "output_type": "display_data",
          "data": {
            "image/png": "[encoded data removed]",
            "text/plain": [
              "<Figure size 720x576 with 1 Axes>"
            ]
          },
          "metadata": {
            "tags": [],
            "needs_background": "light"
          }
        }
      ]
    },
    {
      "cell_type": "code",
      "metadata": {
        "execution": {
          "iopub.execute_input": "2020-11-28T09:01:34.109828Z",
          "iopub.status.busy": "2020-11-28T09:01:34.108880Z",
          "iopub.status.idle": "2020-11-28T09:01:34.113229Z",
          "shell.execute_reply": "2020-11-28T09:01:34.113790Z"
        },
        "papermill": {
          "duration": 0.107401,
          "end_time": "2020-11-28T09:01:34.113934",
          "exception": false,
          "start_time": "2020-11-28T09:01:34.006533",
          "status": "completed"
        },
        "tags": [],
        "colab": {
          "base_uri": "https://localhost:8080/"
        },
        "id": "Znz8oWts-Oo1",
        "outputId": "ea4441a8-12e9-4aa6-914f-b8eaf49c272f"
      },
      "source": [
        "carprice.columns"
      ],
      "execution_count": 16,
      "outputs": [
        {
          "output_type": "execute_result",
          "data": {
            "text/plain": [
              "Index(['car_ID', 'symboling', 'CarName', 'fueltype', 'aspiration',\n",
              "       'doornumber', 'carbody', 'drivewheel', 'enginelocation', 'wheelbase',\n",
              "       'carlength', 'carwidth', 'carheight', 'curbweight', 'enginetype',\n",
              "       'cylindernumber', 'enginesize', 'fuelsystem', 'boreratio', 'stroke',\n",
              "       'compressionratio', 'horsepower', 'peakrpm', 'citympg', 'highwaympg',\n",
              "       'price', 'Company'],\n",
              "      dtype='object')"
            ]
          },
          "metadata": {
            "tags": []
          },
          "execution_count": 16
        }
      ]
    },
    {
      "cell_type": "code",
      "metadata": {
        "execution": {
          "iopub.execute_input": "2020-11-28T09:01:34.313253Z",
          "iopub.status.busy": "2020-11-28T09:01:34.312238Z",
          "iopub.status.idle": "2020-11-28T09:01:34.315584Z",
          "shell.execute_reply": "2020-11-28T09:01:34.314936Z"
        },
        "papermill": {
          "duration": 0.103633,
          "end_time": "2020-11-28T09:01:34.315695",
          "exception": false,
          "start_time": "2020-11-28T09:01:34.212062",
          "status": "completed"
        },
        "tags": [],
        "id": "GHDGu7Me-Oo1"
      },
      "source": [
        "df =carprice.copy()"
      ],
      "execution_count": 17,
      "outputs": []
    },
    {
      "cell_type": "markdown",
      "metadata": {
        "papermill": {
          "duration": 0.093156,
          "end_time": "2020-11-28T09:01:34.503038",
          "exception": false,
          "start_time": "2020-11-28T09:01:34.409882",
          "status": "completed"
        },
        "tags": [],
        "id": "It7m48D0-Oo1"
      },
      "source": [
        "## Feature Selection"
      ]
    },
    {
      "cell_type": "markdown",
      "metadata": {
        "papermill": {
          "duration": 0.092199,
          "end_time": "2020-11-28T09:01:34.686222",
          "exception": false,
          "start_time": "2020-11-28T09:01:34.594023",
          "status": "completed"
        },
        "tags": [],
        "id": "7_j_VPJQ-Oo1"
      },
      "source": [
        "### Pearson Correlation"
      ]
    },
    {
      "cell_type": "code",
      "metadata": {
        "execution": {
          "iopub.execute_input": "2020-11-28T09:01:34.889140Z",
          "iopub.status.busy": "2020-11-28T09:01:34.888306Z",
          "iopub.status.idle": "2020-11-28T09:01:34.892602Z",
          "shell.execute_reply": "2020-11-28T09:01:34.891770Z"
        },
        "papermill": {
          "duration": 0.105138,
          "end_time": "2020-11-28T09:01:34.892745",
          "exception": false,
          "start_time": "2020-11-28T09:01:34.787607",
          "status": "completed"
        },
        "tags": [],
        "id": "uwP4Or50-Oo1"
      },
      "source": [
        "corr = carprice.corr()"
      ],
      "execution_count": 18,
      "outputs": []
    },
    {
      "cell_type": "code",
      "metadata": {
        "execution": {
          "iopub.execute_input": "2020-11-28T09:01:35.106674Z",
          "iopub.status.busy": "2020-11-28T09:01:35.105875Z",
          "iopub.status.idle": "2020-11-28T09:01:36.189928Z",
          "shell.execute_reply": "2020-11-28T09:01:36.190672Z"
        },
        "papermill": {
          "duration": 1.201562,
          "end_time": "2020-11-28T09:01:36.190869",
          "exception": false,
          "start_time": "2020-11-28T09:01:34.989307",
          "status": "completed"
        },
        "tags": [],
        "colab": {
          "base_uri": "https://localhost:8080/",
          "height": 580
        },
        "id": "dOr7lbIv-Oo1",
        "outputId": "daccc016-ca75-40ac-c19d-08db5cea6818"
      },
      "source": [
        "plt.figure(figsize=(15,8))\n",
        "sns.heatmap(abs(corr), annot=True, cmap='coolwarm')"
      ],
      "execution_count": 19,
      "outputs": [
        {
          "output_type": "execute_result",
          "data": {
            "text/plain": [
              "<matplotlib.axes._subplots.AxesSubplot at 0x7f344af32828>"
            ]
          },
          "metadata": {
            "tags": []
          },
          "execution_count": 19
        },
        {
          "output_type": "display_data",
          "data": {
            "image/png": "[encoded data removed]",
            "text/plain": [
              "<Figure size 1080x576 with 2 Axes>"
            ]
          },
          "metadata": {
            "tags": [],
            "needs_background": "light"
          }
        }
      ]
    },
    {
      "cell_type": "markdown",
      "metadata": {
        "papermill": {
          "duration": 0.102094,
          "end_time": "2020-11-28T09:01:36.599903",
          "exception": false,
          "start_time": "2020-11-28T09:01:36.497809",
          "status": "completed"
        },
        "tags": [],
        "id": "n9ZHzoEN-Oo1"
      },
      "source": [
        "From the correlation below matrix we found out that carheight, stroke, compressionratio and peakrpm have no noticable affect on the price of the cars therefore, we will drop these columns. car_ID column is also irrelevant for the prediction of car price. From the box plot visualizations above we saw carNames and doornumber attribute can also be dropped.\n",
        "\n",
        "\n",
        "\n"
      ]
    },
    {
      "cell_type": "code",
      "metadata": {
        "execution": {
          "iopub.execute_input": "2020-11-28T09:01:36.390289Z",
          "iopub.status.busy": "2020-11-28T09:01:36.389214Z",
          "iopub.status.idle": "2020-11-28T09:01:36.394562Z",
          "shell.execute_reply": "2020-11-28T09:01:36.393670Z"
        },
        "papermill": {
          "duration": 0.106507,
          "end_time": "2020-11-28T09:01:36.394681",
          "exception": false,
          "start_time": "2020-11-28T09:01:36.288174",
          "status": "completed"
        },
        "tags": [],
        "colab": {
          "base_uri": "https://localhost:8080/"
        },
        "id": "bFB6___O-Oo1",
        "outputId": "2155ec8f-6afc-490e-f99f-96840dfa6208"
      },
      "source": [
        "corr.price"
      ],
      "execution_count": 20,
      "outputs": [
        {
          "output_type": "execute_result",
          "data": {
            "text/plain": [
              "car_ID             -0.109093\n",
              "symboling          -0.079978\n",
              "wheelbase           0.577816\n",
              "carlength           0.682920\n",
              "carwidth            0.759325\n",
              "carheight           0.119336\n",
              "curbweight          0.835305\n",
              "enginesize          0.874145\n",
              "boreratio           0.553173\n",
              "stroke              0.079443\n",
              "compressionratio    0.067984\n",
              "horsepower          0.808139\n",
              "peakrpm            -0.085267\n",
              "citympg            -0.685751\n",
              "highwaympg         -0.697599\n",
              "price               1.000000\n",
              "Name: price, dtype: float64"
            ]
          },
          "metadata": {
            "tags": []
          },
          "execution_count": 20
        }
      ]
    },
    {
      "cell_type": "code",
      "metadata": {
        "execution": {
          "iopub.execute_input": "2020-11-28T09:01:36.809510Z",
          "iopub.status.busy": "2020-11-28T09:01:36.808537Z",
          "iopub.status.idle": "2020-11-28T09:01:36.811674Z",
          "shell.execute_reply": "2020-11-28T09:01:36.811042Z"
        },
        "papermill": {
          "duration": 0.113961,
          "end_time": "2020-11-28T09:01:36.811778",
          "exception": false,
          "start_time": "2020-11-28T09:01:36.697817",
          "status": "completed"
        },
        "tags": [],
        "id": "XzkWdbXB-Oo1"
      },
      "source": [
        "carprice.drop(columns =['car_ID','carheight', 'stroke', 'compressionratio','peakrpm', 'CarName', 'doornumber'],inplace=True)"
      ],
      "execution_count": 21,
      "outputs": []
    },
    {
      "cell_type": "markdown",
      "metadata": {
        "id": "j1XilGbX3qW5"
      },
      "source": [
        "# Below code Will be used in the Random Classifier"
      ]
    },
    {
      "cell_type": "code",
      "metadata": {
        "execution": {
          "iopub.execute_input": "2020-11-28T09:01:37.010146Z",
          "iopub.status.busy": "2020-11-28T09:01:37.009191Z",
          "iopub.status.idle": "2020-11-28T09:01:37.012524Z",
          "shell.execute_reply": "2020-11-28T09:01:37.011894Z"
        },
        "papermill": {
          "duration": 0.106175,
          "end_time": "2020-11-28T09:01:37.012637",
          "exception": false,
          "start_time": "2020-11-28T09:01:36.906462",
          "status": "completed"
        },
        "tags": [],
        "id": "Eb6QswDl-Oo1"
      },
      "source": [
        "labeel_for_DS = carprice['price'].copy() "
      ],
      "execution_count": 22,
      "outputs": []
    },
    {
      "cell_type": "markdown",
      "metadata": {
        "papermill": {
          "duration": 0.102002,
          "end_time": "2020-11-28T09:01:37.215212",
          "exception": false,
          "start_time": "2020-11-28T09:01:37.113210",
          "status": "completed"
        },
        "tags": [],
        "id": "h1TGCeW5-Oo1"
      },
      "source": [
        "Normalization of Numerical Features"
      ]
    },
    {
      "cell_type": "code",
      "metadata": {
        "execution": {
          "iopub.execute_input": "2020-11-28T09:01:37.423072Z",
          "iopub.status.busy": "2020-11-28T09:01:37.422353Z",
          "iopub.status.idle": "2020-11-28T09:01:37.433407Z",
          "shell.execute_reply": "2020-11-28T09:01:37.432665Z"
        },
        "papermill": {
          "duration": 0.1219,
          "end_time": "2020-11-28T09:01:37.433522",
          "exception": false,
          "start_time": "2020-11-28T09:01:37.311622",
          "status": "completed"
        },
        "tags": [],
        "id": "UHauzONb-Oo1"
      },
      "source": [
        "from scipy.stats import zscore\n",
        "numeric_cols = carprice.select_dtypes(include=[np.number]).columns\n",
        "carprice[numeric_cols] = carprice[numeric_cols].apply(zscore)"
      ],
      "execution_count": 23,
      "outputs": []
    },
    {
      "cell_type": "code",
      "metadata": {
        "execution": {
          "iopub.execute_input": "2020-11-28T09:01:37.653610Z",
          "iopub.status.busy": "2020-11-28T09:01:37.633874Z",
          "iopub.status.idle": "2020-11-28T09:01:37.658276Z",
          "shell.execute_reply": "2020-11-28T09:01:37.657725Z"
        },
        "papermill": {
          "duration": 0.126903,
          "end_time": "2020-11-28T09:01:37.658410",
          "exception": false,
          "start_time": "2020-11-28T09:01:37.531507",
          "status": "completed"
        },
        "tags": [],
        "colab": {
          "base_uri": "https://localhost:8080/",
          "height": 266
        },
        "id": "bBMrI3tX-Oo1",
        "outputId": "684497b6-bbff-4942-c9e6-c86c94e6ed9c"
      },
      "source": [
        "carprice.head()"
      ],
      "execution_count": 24,
      "outputs": [
        {
          "output_type": "execute_result",
          "data": {
            "text/html": [
              "<div>\n",
              "<style scoped>\n",
              "    .dataframe tbody tr th:only-of-type {\n",
              "        vertical-align: middle;\n",
              "    }\n",
              "\n",
              "    .dataframe tbody tr th {\n",
              "        vertical-align: top;\n",
              "    }\n",
              "\n",
              "    .dataframe thead th {\n",
              "        text-align: right;\n",
              "    }\n",
              "</style>\n",
              "<table border=\"1\" class=\"dataframe\">\n",
              "  <thead>\n",
              "    <tr style=\"text-align: right;\">\n",
              "      <th></th>\n",
              "      <th>symboling</th>\n",
              "      <th>fueltype</th>\n",
              "      <th>aspiration</th>\n",
              "      <th>carbody</th>\n",
              "      <th>drivewheel</th>\n",
              "      <th>enginelocation</th>\n",
              "      <th>wheelbase</th>\n",
              "      <th>carlength</th>\n",
              "      <th>carwidth</th>\n",
              "      <th>curbweight</th>\n",
              "      <th>enginetype</th>\n",
              "      <th>cylindernumber</th>\n",
              "      <th>enginesize</th>\n",
              "      <th>fuelsystem</th>\n",
              "      <th>boreratio</th>\n",
              "      <th>horsepower</th>\n",
              "      <th>citympg</th>\n",
              "      <th>highwaympg</th>\n",
              "      <th>price</th>\n",
              "      <th>Company</th>\n",
              "    </tr>\n",
              "  </thead>\n",
              "  <tbody>\n",
              "    <tr>\n",
              "      <th>0</th>\n",
              "      <td>1.743470</td>\n",
              "      <td>gas</td>\n",
              "      <td>std</td>\n",
              "      <td>convertible</td>\n",
              "      <td>rwd</td>\n",
              "      <td>front</td>\n",
              "      <td>-1.690772</td>\n",
              "      <td>-0.426521</td>\n",
              "      <td>-0.844782</td>\n",
              "      <td>-0.014566</td>\n",
              "      <td>dohc</td>\n",
              "      <td>four</td>\n",
              "      <td>0.074449</td>\n",
              "      <td>mpfi</td>\n",
              "      <td>0.519071</td>\n",
              "      <td>0.174483</td>\n",
              "      <td>-0.646553</td>\n",
              "      <td>-0.546059</td>\n",
              "      <td>0.027391</td>\n",
              "      <td>Alfa-Romero</td>\n",
              "    </tr>\n",
              "    <tr>\n",
              "      <th>1</th>\n",
              "      <td>1.743470</td>\n",
              "      <td>gas</td>\n",
              "      <td>std</td>\n",
              "      <td>convertible</td>\n",
              "      <td>rwd</td>\n",
              "      <td>front</td>\n",
              "      <td>-1.690772</td>\n",
              "      <td>-0.426521</td>\n",
              "      <td>-0.844782</td>\n",
              "      <td>-0.014566</td>\n",
              "      <td>dohc</td>\n",
              "      <td>four</td>\n",
              "      <td>0.074449</td>\n",
              "      <td>mpfi</td>\n",
              "      <td>0.519071</td>\n",
              "      <td>0.174483</td>\n",
              "      <td>-0.646553</td>\n",
              "      <td>-0.546059</td>\n",
              "      <td>0.404461</td>\n",
              "      <td>Alfa-Romero</td>\n",
              "    </tr>\n",
              "    <tr>\n",
              "      <th>2</th>\n",
              "      <td>0.133509</td>\n",
              "      <td>gas</td>\n",
              "      <td>std</td>\n",
              "      <td>hatchback</td>\n",
              "      <td>rwd</td>\n",
              "      <td>front</td>\n",
              "      <td>-0.708596</td>\n",
              "      <td>-0.231513</td>\n",
              "      <td>-0.190566</td>\n",
              "      <td>0.514882</td>\n",
              "      <td>ohcv</td>\n",
              "      <td>six</td>\n",
              "      <td>0.604046</td>\n",
              "      <td>mpfi</td>\n",
              "      <td>-2.404880</td>\n",
              "      <td>1.264536</td>\n",
              "      <td>-0.953012</td>\n",
              "      <td>-0.691627</td>\n",
              "      <td>0.404461</td>\n",
              "      <td>Alfa-Romero</td>\n",
              "    </tr>\n",
              "    <tr>\n",
              "      <th>3</th>\n",
              "      <td>0.938490</td>\n",
              "      <td>gas</td>\n",
              "      <td>std</td>\n",
              "      <td>sedan</td>\n",
              "      <td>fwd</td>\n",
              "      <td>front</td>\n",
              "      <td>0.173698</td>\n",
              "      <td>0.207256</td>\n",
              "      <td>0.136542</td>\n",
              "      <td>-0.420797</td>\n",
              "      <td>ohc</td>\n",
              "      <td>four</td>\n",
              "      <td>-0.431076</td>\n",
              "      <td>mpfi</td>\n",
              "      <td>-0.517266</td>\n",
              "      <td>-0.053668</td>\n",
              "      <td>-0.186865</td>\n",
              "      <td>-0.109354</td>\n",
              "      <td>0.084485</td>\n",
              "      <td>Audi</td>\n",
              "    </tr>\n",
              "    <tr>\n",
              "      <th>4</th>\n",
              "      <td>0.938490</td>\n",
              "      <td>gas</td>\n",
              "      <td>std</td>\n",
              "      <td>sedan</td>\n",
              "      <td>4wd</td>\n",
              "      <td>front</td>\n",
              "      <td>0.107110</td>\n",
              "      <td>0.207256</td>\n",
              "      <td>0.230001</td>\n",
              "      <td>0.516807</td>\n",
              "      <td>ohc</td>\n",
              "      <td>five</td>\n",
              "      <td>0.218885</td>\n",
              "      <td>mpfi</td>\n",
              "      <td>-0.517266</td>\n",
              "      <td>0.275883</td>\n",
              "      <td>-1.106241</td>\n",
              "      <td>-1.273900</td>\n",
              "      <td>0.523668</td>\n",
              "      <td>Audi</td>\n",
              "    </tr>\n",
              "  </tbody>\n",
              "</table>\n",
              "</div>"
            ],
            "text/plain": [
              "   symboling fueltype aspiration  ... highwaympg     price      Company\n",
              "0   1.743470      gas        std  ...  -0.546059  0.027391  Alfa-Romero\n",
              "1   1.743470      gas        std  ...  -0.546059  0.404461  Alfa-Romero\n",
              "2   0.133509      gas        std  ...  -0.691627  0.404461  Alfa-Romero\n",
              "3   0.938490      gas        std  ...  -0.109354  0.084485         Audi\n",
              "4   0.938490      gas        std  ...  -1.273900  0.523668         Audi\n",
              "\n",
              "[5 rows x 20 columns]"
            ]
          },
          "metadata": {
            "tags": []
          },
          "execution_count": 24
        }
      ]
    },
    {
      "cell_type": "code",
      "metadata": {
        "execution": {
          "iopub.execute_input": "2020-11-28T09:01:37.893061Z",
          "iopub.status.busy": "2020-11-28T09:01:37.891977Z",
          "iopub.status.idle": "2020-11-28T09:01:37.896830Z",
          "shell.execute_reply": "2020-11-28T09:01:37.896029Z"
        },
        "papermill": {
          "duration": 0.129054,
          "end_time": "2020-11-28T09:01:37.896951",
          "exception": false,
          "start_time": "2020-11-28T09:01:37.767897",
          "status": "completed"
        },
        "tags": [],
        "colab": {
          "base_uri": "https://localhost:8080/"
        },
        "id": "eR7FG5Wt-Oo1",
        "outputId": "55a45754-3678-49f4-c9f2-118fb1d211c2"
      },
      "source": [
        "carprice.info()"
      ],
      "execution_count": 25,
      "outputs": [
        {
          "output_type": "stream",
          "text": [
            "<class 'pandas.core.frame.DataFrame'>\n",
            "RangeIndex: 205 entries, 0 to 204\n",
            "Data columns (total 20 columns):\n",
            " #   Column          Non-Null Count  Dtype  \n",
            "---  ------          --------------  -----  \n",
            " 0   symboling       205 non-null    float64\n",
            " 1   fueltype        205 non-null    object \n",
            " 2   aspiration      205 non-null    object \n",
            " 3   carbody         205 non-null    object \n",
            " 4   drivewheel      205 non-null    object \n",
            " 5   enginelocation  205 non-null    object \n",
            " 6   wheelbase       205 non-null    float64\n",
            " 7   carlength       205 non-null    float64\n",
            " 8   carwidth        205 non-null    float64\n",
            " 9   curbweight      205 non-null    float64\n",
            " 10  enginetype      205 non-null    object \n",
            " 11  cylindernumber  205 non-null    object \n",
            " 12  enginesize      205 non-null    float64\n",
            " 13  fuelsystem      205 non-null    object \n",
            " 14  boreratio       205 non-null    float64\n",
            " 15  horsepower      205 non-null    float64\n",
            " 16  citympg         205 non-null    float64\n",
            " 17  highwaympg      205 non-null    float64\n",
            " 18  price           205 non-null    float64\n",
            " 19  Company         205 non-null    object \n",
            "dtypes: float64(11), object(9)\n",
            "memory usage: 32.2+ KB\n"
          ],
          "name": "stdout"
        }
      ]
    },
    {
      "cell_type": "markdown",
      "metadata": {
        "id": "fqNJJSAx3_zk"
      },
      "source": [
        "#Feature Encoding"
      ]
    },
    {
      "cell_type": "code",
      "metadata": {
        "colab": {
          "base_uri": "https://localhost:8080/"
        },
        "id": "UPMqhjmK3-Fs",
        "outputId": "1798ef6d-f0b1-4810-d3c5-2f87e70e7c73"
      },
      "source": [
        "for i in carprice.columns:\n",
        "    if carprice[i].dtype =='O':\n",
        "        print(i+' : ',carprice[i].unique())"
      ],
      "execution_count": 26,
      "outputs": [
        {
          "output_type": "stream",
          "text": [
            "fueltype :  ['gas' 'diesel']\n",
            "aspiration :  ['std' 'turbo']\n",
            "carbody :  ['convertible' 'hatchback' 'sedan' 'wagon' 'hardtop']\n",
            "drivewheel :  ['rwd' 'fwd' '4wd']\n",
            "enginelocation :  ['front' 'rear']\n",
            "enginetype :  ['dohc' 'ohcv' 'ohc' 'l' 'rotor' 'ohcf' 'dohcv']\n",
            "cylindernumber :  ['four' 'six' 'five' 'three' 'twelve' 'two' 'eight']\n",
            "fuelsystem :  ['mpfi' '2bbl' 'mfi' '1bbl' 'spfi' '4bbl' 'idi' 'spdi']\n",
            "Company :  ['Alfa-Romero' 'Audi' 'Bmw' 'Chevrolet' 'Dodge' 'Honda' 'Isuzu' 'Jaguar'\n",
            " 'Mazda' 'Buick' 'Mercury' 'Mitsubishi' 'Nissan' 'Peugeot' 'Plymouth'\n",
            " 'Porsche' 'Renault' 'Saab' 'Subaru' 'Toyota' 'Volkswagen' 'Volvo']\n"
          ],
          "name": "stdout"
        }
      ]
    },
    {
      "cell_type": "markdown",
      "metadata": {
        "id": "Bcj9DfBx4JAF"
      },
      "source": [
        "#Manual Encoding"
      ]
    },
    {
      "cell_type": "code",
      "metadata": {
        "id": "zvMav2fN4NWE"
      },
      "source": [
        "carprice.fueltype = carprice.fueltype.map({'gas': 1,'diesel':0})"
      ],
      "execution_count": 27,
      "outputs": []
    },
    {
      "cell_type": "code",
      "metadata": {
        "id": "xAqGHBht4RCX"
      },
      "source": [
        "carprice.aspiration = carprice.aspiration.map({'std':1, 'turbo':0})"
      ],
      "execution_count": 28,
      "outputs": []
    },
    {
      "cell_type": "code",
      "metadata": {
        "id": "IgjSrHci4TGl"
      },
      "source": [
        "carprice.enginelocation = carprice.enginelocation.map({'front':1,'rear':0})"
      ],
      "execution_count": 29,
      "outputs": []
    },
    {
      "cell_type": "code",
      "metadata": {
        "colab": {
          "base_uri": "https://localhost:8080/",
          "height": 266
        },
        "id": "72wP4XrM4ZKd",
        "outputId": "5b072c5a-b663-466b-d894-39ef087cb887"
      },
      "source": [
        "carprice.head()"
      ],
      "execution_count": 30,
      "outputs": [
        {
          "output_type": "execute_result",
          "data": {
            "text/html": [
              "<div>\n",
              "<style scoped>\n",
              "    .dataframe tbody tr th:only-of-type {\n",
              "        vertical-align: middle;\n",
              "    }\n",
              "\n",
              "    .dataframe tbody tr th {\n",
              "        vertical-align: top;\n",
              "    }\n",
              "\n",
              "    .dataframe thead th {\n",
              "        text-align: right;\n",
              "    }\n",
              "</style>\n",
              "<table border=\"1\" class=\"dataframe\">\n",
              "  <thead>\n",
              "    <tr style=\"text-align: right;\">\n",
              "      <th></th>\n",
              "      <th>symboling</th>\n",
              "      <th>fueltype</th>\n",
              "      <th>aspiration</th>\n",
              "      <th>carbody</th>\n",
              "      <th>drivewheel</th>\n",
              "      <th>enginelocation</th>\n",
              "      <th>wheelbase</th>\n",
              "      <th>carlength</th>\n",
              "      <th>carwidth</th>\n",
              "      <th>curbweight</th>\n",
              "      <th>enginetype</th>\n",
              "      <th>cylindernumber</th>\n",
              "      <th>enginesize</th>\n",
              "      <th>fuelsystem</th>\n",
              "      <th>boreratio</th>\n",
              "      <th>horsepower</th>\n",
              "      <th>citympg</th>\n",
              "      <th>highwaympg</th>\n",
              "      <th>price</th>\n",
              "      <th>Company</th>\n",
              "    </tr>\n",
              "  </thead>\n",
              "  <tbody>\n",
              "    <tr>\n",
              "      <th>0</th>\n",
              "      <td>1.743470</td>\n",
              "      <td>1</td>\n",
              "      <td>1</td>\n",
              "      <td>convertible</td>\n",
              "      <td>rwd</td>\n",
              "      <td>1</td>\n",
              "      <td>-1.690772</td>\n",
              "      <td>-0.426521</td>\n",
              "      <td>-0.844782</td>\n",
              "      <td>-0.014566</td>\n",
              "      <td>dohc</td>\n",
              "      <td>four</td>\n",
              "      <td>0.074449</td>\n",
              "      <td>mpfi</td>\n",
              "      <td>0.519071</td>\n",
              "      <td>0.174483</td>\n",
              "      <td>-0.646553</td>\n",
              "      <td>-0.546059</td>\n",
              "      <td>0.027391</td>\n",
              "      <td>Alfa-Romero</td>\n",
              "    </tr>\n",
              "    <tr>\n",
              "      <th>1</th>\n",
              "      <td>1.743470</td>\n",
              "      <td>1</td>\n",
              "      <td>1</td>\n",
              "      <td>convertible</td>\n",
              "      <td>rwd</td>\n",
              "      <td>1</td>\n",
              "      <td>-1.690772</td>\n",
              "      <td>-0.426521</td>\n",
              "      <td>-0.844782</td>\n",
              "      <td>-0.014566</td>\n",
              "      <td>dohc</td>\n",
              "      <td>four</td>\n",
              "      <td>0.074449</td>\n",
              "      <td>mpfi</td>\n",
              "      <td>0.519071</td>\n",
              "      <td>0.174483</td>\n",
              "      <td>-0.646553</td>\n",
              "      <td>-0.546059</td>\n",
              "      <td>0.404461</td>\n",
              "      <td>Alfa-Romero</td>\n",
              "    </tr>\n",
              "    <tr>\n",
              "      <th>2</th>\n",
              "      <td>0.133509</td>\n",
              "      <td>1</td>\n",
              "      <td>1</td>\n",
              "      <td>hatchback</td>\n",
              "      <td>rwd</td>\n",
              "      <td>1</td>\n",
              "      <td>-0.708596</td>\n",
              "      <td>-0.231513</td>\n",
              "      <td>-0.190566</td>\n",
              "      <td>0.514882</td>\n",
              "      <td>ohcv</td>\n",
              "      <td>six</td>\n",
              "      <td>0.604046</td>\n",
              "      <td>mpfi</td>\n",
              "      <td>-2.404880</td>\n",
              "      <td>1.264536</td>\n",
              "      <td>-0.953012</td>\n",
              "      <td>-0.691627</td>\n",
              "      <td>0.404461</td>\n",
              "      <td>Alfa-Romero</td>\n",
              "    </tr>\n",
              "    <tr>\n",
              "      <th>3</th>\n",
              "      <td>0.938490</td>\n",
              "      <td>1</td>\n",
              "      <td>1</td>\n",
              "      <td>sedan</td>\n",
              "      <td>fwd</td>\n",
              "      <td>1</td>\n",
              "      <td>0.173698</td>\n",
              "      <td>0.207256</td>\n",
              "      <td>0.136542</td>\n",
              "      <td>-0.420797</td>\n",
              "      <td>ohc</td>\n",
              "      <td>four</td>\n",
              "      <td>-0.431076</td>\n",
              "      <td>mpfi</td>\n",
              "      <td>-0.517266</td>\n",
              "      <td>-0.053668</td>\n",
              "      <td>-0.186865</td>\n",
              "      <td>-0.109354</td>\n",
              "      <td>0.084485</td>\n",
              "      <td>Audi</td>\n",
              "    </tr>\n",
              "    <tr>\n",
              "      <th>4</th>\n",
              "      <td>0.938490</td>\n",
              "      <td>1</td>\n",
              "      <td>1</td>\n",
              "      <td>sedan</td>\n",
              "      <td>4wd</td>\n",
              "      <td>1</td>\n",
              "      <td>0.107110</td>\n",
              "      <td>0.207256</td>\n",
              "      <td>0.230001</td>\n",
              "      <td>0.516807</td>\n",
              "      <td>ohc</td>\n",
              "      <td>five</td>\n",
              "      <td>0.218885</td>\n",
              "      <td>mpfi</td>\n",
              "      <td>-0.517266</td>\n",
              "      <td>0.275883</td>\n",
              "      <td>-1.106241</td>\n",
              "      <td>-1.273900</td>\n",
              "      <td>0.523668</td>\n",
              "      <td>Audi</td>\n",
              "    </tr>\n",
              "  </tbody>\n",
              "</table>\n",
              "</div>"
            ],
            "text/plain": [
              "   symboling  fueltype  aspiration  ... highwaympg     price      Company\n",
              "0   1.743470         1           1  ...  -0.546059  0.027391  Alfa-Romero\n",
              "1   1.743470         1           1  ...  -0.546059  0.404461  Alfa-Romero\n",
              "2   0.133509         1           1  ...  -0.691627  0.404461  Alfa-Romero\n",
              "3   0.938490         1           1  ...  -0.109354  0.084485         Audi\n",
              "4   0.938490         1           1  ...  -1.273900  0.523668         Audi\n",
              "\n",
              "[5 rows x 20 columns]"
            ]
          },
          "metadata": {
            "tags": []
          },
          "execution_count": 30
        }
      ]
    },
    {
      "cell_type": "markdown",
      "metadata": {
        "id": "YRVkYF9g45PC"
      },
      "source": [
        "#One Hot Encoding"
      ]
    },
    {
      "cell_type": "code",
      "metadata": {
        "id": "ksNoBaZy44vG"
      },
      "source": [
        "# For Categorical variables having more than two unique values we will hot encode those features\n",
        "for i in carprice.columns:\n",
        "    if carprice[i].dtype == 'O' and carprice[i].nunique() >2:\n",
        "        #print(i, i+'_Dummies')\n",
        "        carprice.Dummies =pd.get_dummies(carprice[i])\n",
        "        carprice = pd.concat([carprice, carprice.Dummies], axis=1)\n",
        "        carprice.drop(columns=[i], inplace=True)"
      ],
      "execution_count": 31,
      "outputs": []
    },
    {
      "cell_type": "code",
      "metadata": {
        "colab": {
          "base_uri": "https://localhost:8080/",
          "height": 232
        },
        "id": "wv4FiN6-4-C4",
        "outputId": "3defac2e-032e-45fb-a965-d4992523cac5"
      },
      "source": [
        "carprice.head()"
      ],
      "execution_count": 32,
      "outputs": [
        {
          "output_type": "execute_result",
          "data": {
            "text/html": [
              "<div>\n",
              "<style scoped>\n",
              "    .dataframe tbody tr th:only-of-type {\n",
              "        vertical-align: middle;\n",
              "    }\n",
              "\n",
              "    .dataframe tbody tr th {\n",
              "        vertical-align: top;\n",
              "    }\n",
              "\n",
              "    .dataframe thead th {\n",
              "        text-align: right;\n",
              "    }\n",
              "</style>\n",
              "<table border=\"1\" class=\"dataframe\">\n",
              "  <thead>\n",
              "    <tr style=\"text-align: right;\">\n",
              "      <th></th>\n",
              "      <th>symboling</th>\n",
              "      <th>fueltype</th>\n",
              "      <th>aspiration</th>\n",
              "      <th>enginelocation</th>\n",
              "      <th>wheelbase</th>\n",
              "      <th>carlength</th>\n",
              "      <th>carwidth</th>\n",
              "      <th>curbweight</th>\n",
              "      <th>enginesize</th>\n",
              "      <th>boreratio</th>\n",
              "      <th>horsepower</th>\n",
              "      <th>citympg</th>\n",
              "      <th>highwaympg</th>\n",
              "      <th>price</th>\n",
              "      <th>convertible</th>\n",
              "      <th>hardtop</th>\n",
              "      <th>hatchback</th>\n",
              "      <th>sedan</th>\n",
              "      <th>wagon</th>\n",
              "      <th>4wd</th>\n",
              "      <th>fwd</th>\n",
              "      <th>rwd</th>\n",
              "      <th>dohc</th>\n",
              "      <th>dohcv</th>\n",
              "      <th>l</th>\n",
              "      <th>ohc</th>\n",
              "      <th>ohcf</th>\n",
              "      <th>ohcv</th>\n",
              "      <th>rotor</th>\n",
              "      <th>eight</th>\n",
              "      <th>five</th>\n",
              "      <th>four</th>\n",
              "      <th>six</th>\n",
              "      <th>three</th>\n",
              "      <th>twelve</th>\n",
              "      <th>two</th>\n",
              "      <th>1bbl</th>\n",
              "      <th>2bbl</th>\n",
              "      <th>4bbl</th>\n",
              "      <th>idi</th>\n",
              "      <th>mfi</th>\n",
              "      <th>mpfi</th>\n",
              "      <th>spdi</th>\n",
              "      <th>spfi</th>\n",
              "      <th>Alfa-Romero</th>\n",
              "      <th>Audi</th>\n",
              "      <th>Bmw</th>\n",
              "      <th>Buick</th>\n",
              "      <th>Chevrolet</th>\n",
              "      <th>Dodge</th>\n",
              "      <th>Honda</th>\n",
              "      <th>Isuzu</th>\n",
              "      <th>Jaguar</th>\n",
              "      <th>Mazda</th>\n",
              "      <th>Mercury</th>\n",
              "      <th>Mitsubishi</th>\n",
              "      <th>Nissan</th>\n",
              "      <th>Peugeot</th>\n",
              "      <th>Plymouth</th>\n",
              "      <th>Porsche</th>\n",
              "      <th>Renault</th>\n",
              "      <th>Saab</th>\n",
              "      <th>Subaru</th>\n",
              "      <th>Toyota</th>\n",
              "      <th>Volkswagen</th>\n",
              "      <th>Volvo</th>\n",
              "    </tr>\n",
              "  </thead>\n",
              "  <tbody>\n",
              "    <tr>\n",
              "      <th>0</th>\n",
              "      <td>1.743470</td>\n",
              "      <td>1</td>\n",
              "      <td>1</td>\n",
              "      <td>1</td>\n",
              "      <td>-1.690772</td>\n",
              "      <td>-0.426521</td>\n",
              "      <td>-0.844782</td>\n",
              "      <td>-0.014566</td>\n",
              "      <td>0.074449</td>\n",
              "      <td>0.519071</td>\n",
              "      <td>0.174483</td>\n",
              "      <td>-0.646553</td>\n",
              "      <td>-0.546059</td>\n",
              "      <td>0.027391</td>\n",
              "      <td>1</td>\n",
              "      <td>0</td>\n",
              "      <td>0</td>\n",
              "      <td>0</td>\n",
              "      <td>0</td>\n",
              "      <td>0</td>\n",
              "      <td>0</td>\n",
              "      <td>1</td>\n",
              "      <td>1</td>\n",
              "      <td>0</td>\n",
              "      <td>0</td>\n",
              "      <td>0</td>\n",
              "      <td>0</td>\n",
              "      <td>0</td>\n",
              "      <td>0</td>\n",
              "      <td>0</td>\n",
              "      <td>0</td>\n",
              "      <td>1</td>\n",
              "      <td>0</td>\n",
              "      <td>0</td>\n",
              "      <td>0</td>\n",
              "      <td>0</td>\n",
              "      <td>0</td>\n",
              "      <td>0</td>\n",
              "      <td>0</td>\n",
              "      <td>0</td>\n",
              "      <td>0</td>\n",
              "      <td>1</td>\n",
              "      <td>0</td>\n",
              "      <td>0</td>\n",
              "      <td>1</td>\n",
              "      <td>0</td>\n",
              "      <td>0</td>\n",
              "      <td>0</td>\n",
              "      <td>0</td>\n",
              "      <td>0</td>\n",
              "      <td>0</td>\n",
              "      <td>0</td>\n",
              "      <td>0</td>\n",
              "      <td>0</td>\n",
              "      <td>0</td>\n",
              "      <td>0</td>\n",
              "      <td>0</td>\n",
              "      <td>0</td>\n",
              "      <td>0</td>\n",
              "      <td>0</td>\n",
              "      <td>0</td>\n",
              "      <td>0</td>\n",
              "      <td>0</td>\n",
              "      <td>0</td>\n",
              "      <td>0</td>\n",
              "      <td>0</td>\n",
              "    </tr>\n",
              "    <tr>\n",
              "      <th>1</th>\n",
              "      <td>1.743470</td>\n",
              "      <td>1</td>\n",
              "      <td>1</td>\n",
              "      <td>1</td>\n",
              "      <td>-1.690772</td>\n",
              "      <td>-0.426521</td>\n",
              "      <td>-0.844782</td>\n",
              "      <td>-0.014566</td>\n",
              "      <td>0.074449</td>\n",
              "      <td>0.519071</td>\n",
              "      <td>0.174483</td>\n",
              "      <td>-0.646553</td>\n",
              "      <td>-0.546059</td>\n",
              "      <td>0.404461</td>\n",
              "      <td>1</td>\n",
              "      <td>0</td>\n",
              "      <td>0</td>\n",
              "      <td>0</td>\n",
              "      <td>0</td>\n",
              "      <td>0</td>\n",
              "      <td>0</td>\n",
              "      <td>1</td>\n",
              "      <td>1</td>\n",
              "      <td>0</td>\n",
              "      <td>0</td>\n",
              "      <td>0</td>\n",
              "      <td>0</td>\n",
              "      <td>0</td>\n",
              "      <td>0</td>\n",
              "      <td>0</td>\n",
              "      <td>0</td>\n",
              "      <td>1</td>\n",
              "      <td>0</td>\n",
              "      <td>0</td>\n",
              "      <td>0</td>\n",
              "      <td>0</td>\n",
              "      <td>0</td>\n",
              "      <td>0</td>\n",
              "      <td>0</td>\n",
              "      <td>0</td>\n",
              "      <td>0</td>\n",
              "      <td>1</td>\n",
              "      <td>0</td>\n",
              "      <td>0</td>\n",
              "      <td>1</td>\n",
              "      <td>0</td>\n",
              "      <td>0</td>\n",
              "      <td>0</td>\n",
              "      <td>0</td>\n",
              "      <td>0</td>\n",
              "      <td>0</td>\n",
              "      <td>0</td>\n",
              "      <td>0</td>\n",
              "      <td>0</td>\n",
              "      <td>0</td>\n",
              "      <td>0</td>\n",
              "      <td>0</td>\n",
              "      <td>0</td>\n",
              "      <td>0</td>\n",
              "      <td>0</td>\n",
              "      <td>0</td>\n",
              "      <td>0</td>\n",
              "      <td>0</td>\n",
              "      <td>0</td>\n",
              "      <td>0</td>\n",
              "      <td>0</td>\n",
              "    </tr>\n",
              "    <tr>\n",
              "      <th>2</th>\n",
              "      <td>0.133509</td>\n",
              "      <td>1</td>\n",
              "      <td>1</td>\n",
              "      <td>1</td>\n",
              "      <td>-0.708596</td>\n",
              "      <td>-0.231513</td>\n",
              "      <td>-0.190566</td>\n",
              "      <td>0.514882</td>\n",
              "      <td>0.604046</td>\n",
              "      <td>-2.404880</td>\n",
              "      <td>1.264536</td>\n",
              "      <td>-0.953012</td>\n",
              "      <td>-0.691627</td>\n",
              "      <td>0.404461</td>\n",
              "      <td>0</td>\n",
              "      <td>0</td>\n",
              "      <td>1</td>\n",
              "      <td>0</td>\n",
              "      <td>0</td>\n",
              "      <td>0</td>\n",
              "      <td>0</td>\n",
              "      <td>1</td>\n",
              "      <td>0</td>\n",
              "      <td>0</td>\n",
              "      <td>0</td>\n",
              "      <td>0</td>\n",
              "      <td>0</td>\n",
              "      <td>1</td>\n",
              "      <td>0</td>\n",
              "      <td>0</td>\n",
              "      <td>0</td>\n",
              "      <td>0</td>\n",
              "      <td>1</td>\n",
              "      <td>0</td>\n",
              "      <td>0</td>\n",
              "      <td>0</td>\n",
              "      <td>0</td>\n",
              "      <td>0</td>\n",
              "      <td>0</td>\n",
              "      <td>0</td>\n",
              "      <td>0</td>\n",
              "      <td>1</td>\n",
              "      <td>0</td>\n",
              "      <td>0</td>\n",
              "      <td>1</td>\n",
              "      <td>0</td>\n",
              "      <td>0</td>\n",
              "      <td>0</td>\n",
              "      <td>0</td>\n",
              "      <td>0</td>\n",
              "      <td>0</td>\n",
              "      <td>0</td>\n",
              "      <td>0</td>\n",
              "      <td>0</td>\n",
              "      <td>0</td>\n",
              "      <td>0</td>\n",
              "      <td>0</td>\n",
              "      <td>0</td>\n",
              "      <td>0</td>\n",
              "      <td>0</td>\n",
              "      <td>0</td>\n",
              "      <td>0</td>\n",
              "      <td>0</td>\n",
              "      <td>0</td>\n",
              "      <td>0</td>\n",
              "      <td>0</td>\n",
              "    </tr>\n",
              "    <tr>\n",
              "      <th>3</th>\n",
              "      <td>0.938490</td>\n",
              "      <td>1</td>\n",
              "      <td>1</td>\n",
              "      <td>1</td>\n",
              "      <td>0.173698</td>\n",
              "      <td>0.207256</td>\n",
              "      <td>0.136542</td>\n",
              "      <td>-0.420797</td>\n",
              "      <td>-0.431076</td>\n",
              "      <td>-0.517266</td>\n",
              "      <td>-0.053668</td>\n",
              "      <td>-0.186865</td>\n",
              "      <td>-0.109354</td>\n",
              "      <td>0.084485</td>\n",
              "      <td>0</td>\n",
              "      <td>0</td>\n",
              "      <td>0</td>\n",
              "      <td>1</td>\n",
              "      <td>0</td>\n",
              "      <td>0</td>\n",
              "      <td>1</td>\n",
              "      <td>0</td>\n",
              "      <td>0</td>\n",
              "      <td>0</td>\n",
              "      <td>0</td>\n",
              "      <td>1</td>\n",
              "      <td>0</td>\n",
              "      <td>0</td>\n",
              "      <td>0</td>\n",
              "      <td>0</td>\n",
              "      <td>0</td>\n",
              "      <td>1</td>\n",
              "      <td>0</td>\n",
              "      <td>0</td>\n",
              "      <td>0</td>\n",
              "      <td>0</td>\n",
              "      <td>0</td>\n",
              "      <td>0</td>\n",
              "      <td>0</td>\n",
              "      <td>0</td>\n",
              "      <td>0</td>\n",
              "      <td>1</td>\n",
              "      <td>0</td>\n",
              "      <td>0</td>\n",
              "      <td>0</td>\n",
              "      <td>1</td>\n",
              "      <td>0</td>\n",
              "      <td>0</td>\n",
              "      <td>0</td>\n",
              "      <td>0</td>\n",
              "      <td>0</td>\n",
              "      <td>0</td>\n",
              "      <td>0</td>\n",
              "      <td>0</td>\n",
              "      <td>0</td>\n",
              "      <td>0</td>\n",
              "      <td>0</td>\n",
              "      <td>0</td>\n",
              "      <td>0</td>\n",
              "      <td>0</td>\n",
              "      <td>0</td>\n",
              "      <td>0</td>\n",
              "      <td>0</td>\n",
              "      <td>0</td>\n",
              "      <td>0</td>\n",
              "      <td>0</td>\n",
              "    </tr>\n",
              "    <tr>\n",
              "      <th>4</th>\n",
              "      <td>0.938490</td>\n",
              "      <td>1</td>\n",
              "      <td>1</td>\n",
              "      <td>1</td>\n",
              "      <td>0.107110</td>\n",
              "      <td>0.207256</td>\n",
              "      <td>0.230001</td>\n",
              "      <td>0.516807</td>\n",
              "      <td>0.218885</td>\n",
              "      <td>-0.517266</td>\n",
              "      <td>0.275883</td>\n",
              "      <td>-1.106241</td>\n",
              "      <td>-1.273900</td>\n",
              "      <td>0.523668</td>\n",
              "      <td>0</td>\n",
              "      <td>0</td>\n",
              "      <td>0</td>\n",
              "      <td>1</td>\n",
              "      <td>0</td>\n",
              "      <td>1</td>\n",
              "      <td>0</td>\n",
              "      <td>0</td>\n",
              "      <td>0</td>\n",
              "      <td>0</td>\n",
              "      <td>0</td>\n",
              "      <td>1</td>\n",
              "      <td>0</td>\n",
              "      <td>0</td>\n",
              "      <td>0</td>\n",
              "      <td>0</td>\n",
              "      <td>1</td>\n",
              "      <td>0</td>\n",
              "      <td>0</td>\n",
              "      <td>0</td>\n",
              "      <td>0</td>\n",
              "      <td>0</td>\n",
              "      <td>0</td>\n",
              "      <td>0</td>\n",
              "      <td>0</td>\n",
              "      <td>0</td>\n",
              "      <td>0</td>\n",
              "      <td>1</td>\n",
              "      <td>0</td>\n",
              "      <td>0</td>\n",
              "      <td>0</td>\n",
              "      <td>1</td>\n",
              "      <td>0</td>\n",
              "      <td>0</td>\n",
              "      <td>0</td>\n",
              "      <td>0</td>\n",
              "      <td>0</td>\n",
              "      <td>0</td>\n",
              "      <td>0</td>\n",
              "      <td>0</td>\n",
              "      <td>0</td>\n",
              "      <td>0</td>\n",
              "      <td>0</td>\n",
              "      <td>0</td>\n",
              "      <td>0</td>\n",
              "      <td>0</td>\n",
              "      <td>0</td>\n",
              "      <td>0</td>\n",
              "      <td>0</td>\n",
              "      <td>0</td>\n",
              "      <td>0</td>\n",
              "      <td>0</td>\n",
              "    </tr>\n",
              "  </tbody>\n",
              "</table>\n",
              "</div>"
            ],
            "text/plain": [
              "   symboling  fueltype  aspiration  ...  Toyota  Volkswagen  Volvo\n",
              "0   1.743470         1           1  ...       0           0      0\n",
              "1   1.743470         1           1  ...       0           0      0\n",
              "2   0.133509         1           1  ...       0           0      0\n",
              "3   0.938490         1           1  ...       0           0      0\n",
              "4   0.938490         1           1  ...       0           0      0\n",
              "\n",
              "[5 rows x 66 columns]"
            ]
          },
          "metadata": {
            "tags": []
          },
          "execution_count": 32
        }
      ]
    },
    {
      "cell_type": "code",
      "metadata": {
        "id": "iIql8cH_5ThN"
      },
      "source": [
        "df2=carprice.copy()"
      ],
      "execution_count": 33,
      "outputs": []
    },
    {
      "cell_type": "markdown",
      "metadata": {
        "papermill": {
          "duration": 0.102297,
          "end_time": "2020-11-28T09:01:40.917474",
          "exception": false,
          "start_time": "2020-11-28T09:01:40.815177",
          "status": "completed"
        },
        "tags": [],
        "id": "Bh_zJy_c-Oo2"
      },
      "source": [
        "## Machine Learning"
      ]
    },
    {
      "cell_type": "code",
      "metadata": {
        "execution": {
          "iopub.execute_input": "2020-11-28T09:01:41.127862Z",
          "iopub.status.busy": "2020-11-28T09:01:41.126878Z",
          "iopub.status.idle": "2020-11-28T09:01:41.129735Z",
          "shell.execute_reply": "2020-11-28T09:01:41.129136Z"
        },
        "papermill": {
          "duration": 0.110087,
          "end_time": "2020-11-28T09:01:41.129860",
          "exception": false,
          "start_time": "2020-11-28T09:01:41.019773",
          "status": "completed"
        },
        "tags": [],
        "id": "Ti1Idb_M-Oo2"
      },
      "source": [
        "# Target Variable\n",
        "y = carprice['price']\n",
        "\n",
        "#Features\n",
        "x= carprice.drop(columns=['price'])"
      ],
      "execution_count": 34,
      "outputs": []
    },
    {
      "cell_type": "markdown",
      "metadata": {
        "papermill": {
          "duration": 0.105374,
          "end_time": "2020-11-28T09:01:41.340267",
          "exception": false,
          "start_time": "2020-11-28T09:01:41.234893",
          "status": "completed"
        },
        "tags": [],
        "id": "e1RO22nm-Oo2"
      },
      "source": [
        "##Transforming Features and Target Variables into Arrays"
      ]
    },
    {
      "cell_type": "markdown",
      "metadata": {
        "papermill": {
          "duration": 0.10818,
          "end_time": "2020-11-28T09:01:41.551420",
          "exception": false,
          "start_time": "2020-11-28T09:01:41.443240",
          "status": "completed"
        },
        "tags": [],
        "id": "7gBABrbA-Oo2"
      },
      "source": [
        "We need to convert both x and y into arrays before applying the Linear Regression Model"
      ]
    },
    {
      "cell_type": "code",
      "metadata": {
        "execution": {
          "iopub.execute_input": "2020-11-28T09:01:41.790951Z",
          "iopub.status.busy": "2020-11-28T09:01:41.790113Z",
          "iopub.status.idle": "2020-11-28T09:01:41.827649Z",
          "shell.execute_reply": "2020-11-28T09:01:41.827117Z"
        },
        "papermill": {
          "duration": 0.172234,
          "end_time": "2020-11-28T09:01:41.827786",
          "exception": false,
          "start_time": "2020-11-28T09:01:41.655552",
          "status": "completed"
        },
        "tags": [],
        "id": "tgiWRKcm-Oo2"
      },
      "source": [
        "# First converting the Features into Dictionary\n",
        "x = x.to_dict(orient='records')\n",
        "\n",
        "#Importing vectorizer to convert Dictionary to array\n",
        "from sklearn.feature_extraction import DictVectorizer\n",
        "vec = DictVectorizer()\n",
        "x = vec.fit_transform(x).toarray()\n",
        "\n",
        "#converting our target variable into array\n",
        "y = np.asarray(y)\n"
      ],
      "execution_count": 35,
      "outputs": []
    },
    {
      "cell_type": "markdown",
      "metadata": {
        "papermill": {
          "duration": 0.102168,
          "end_time": "2020-11-28T09:01:42.033286",
          "exception": false,
          "start_time": "2020-11-28T09:01:41.931118",
          "status": "completed"
        },
        "tags": [],
        "id": "55nOPIky-Oo2"
      },
      "source": [
        " Before splitting the data its worth mentioning here that we havent removed the outliers. I think the outliers here may represent a real picture for eg prices of some cars may in real world be too high. Therefore I am of the opinion that removing outliers in the data set at hand would be not a wise thing to do."
      ]
    },
    {
      "cell_type": "markdown",
      "metadata": {
        "papermill": {
          "duration": 0.105775,
          "end_time": "2020-11-28T09:01:42.241368",
          "exception": false,
          "start_time": "2020-11-28T09:01:42.135593",
          "status": "completed"
        },
        "tags": [],
        "id": "shcb0Ydj-Oo2"
      },
      "source": [
        "### Train Test Split"
      ]
    },
    {
      "cell_type": "code",
      "metadata": {
        "execution": {
          "iopub.execute_input": "2020-11-28T09:01:42.454016Z",
          "iopub.status.busy": "2020-11-28T09:01:42.453000Z",
          "iopub.status.idle": "2020-11-28T09:01:42.457161Z",
          "shell.execute_reply": "2020-11-28T09:01:42.456474Z"
        },
        "papermill": {
          "duration": 0.112644,
          "end_time": "2020-11-28T09:01:42.457267",
          "exception": false,
          "start_time": "2020-11-28T09:01:42.344623",
          "status": "completed"
        },
        "tags": [],
        "id": "fqTHpkrJ-Oo2"
      },
      "source": [
        "xtrain, xtest, ytrain, ytest = train_test_split(x,y, test_size=0.2, random_state=42)"
      ],
      "execution_count": 36,
      "outputs": []
    },
    {
      "cell_type": "code",
      "metadata": {
        "execution": {
          "iopub.execute_input": "2020-11-28T09:01:42.668560Z",
          "iopub.status.busy": "2020-11-28T09:01:42.667784Z",
          "iopub.status.idle": "2020-11-28T09:01:42.671758Z",
          "shell.execute_reply": "2020-11-28T09:01:42.671026Z"
        },
        "papermill": {
          "duration": 0.110989,
          "end_time": "2020-11-28T09:01:42.671892",
          "exception": false,
          "start_time": "2020-11-28T09:01:42.560903",
          "status": "completed"
        },
        "tags": [],
        "colab": {
          "base_uri": "https://localhost:8080/"
        },
        "id": "LqXFWgs_-Oo2",
        "outputId": "761e7138-ae3d-46f1-e7d7-a4767a5699e9"
      },
      "source": [
        "print(\"xtrain shape : \", xtrain.shape,\" :: xtest shape  : \", xtest.shape,\" :: ytrain shape : \", ytrain.shape,\" :: ytest shape  : \", ytest.shape) "
      ],
      "execution_count": 37,
      "outputs": [
        {
          "output_type": "stream",
          "text": [
            "xtrain shape :  (164, 65)  :: xtest shape  :  (41, 65)  :: ytrain shape :  (164,)  :: ytest shape  :  (41,)\n"
          ],
          "name": "stdout"
        }
      ]
    },
    {
      "cell_type": "markdown",
      "metadata": {
        "papermill": {
          "duration": 0.100034,
          "end_time": "2020-11-28T09:01:42.878268",
          "exception": false,
          "start_time": "2020-11-28T09:01:42.778234",
          "status": "completed"
        },
        "tags": [],
        "id": "eA9E5n99-Oo2"
      },
      "source": [
        "## Linear Regression Model"
      ]
    },
    {
      "cell_type": "code",
      "metadata": {
        "execution": {
          "iopub.execute_input": "2020-11-28T09:01:43.092177Z",
          "iopub.status.busy": "2020-11-28T09:01:43.091494Z",
          "iopub.status.idle": "2020-11-28T09:01:43.094458Z",
          "shell.execute_reply": "2020-11-28T09:01:43.095024Z"
        },
        "papermill": {
          "duration": 0.114125,
          "end_time": "2020-11-28T09:01:43.095170",
          "exception": false,
          "start_time": "2020-11-28T09:01:42.981045",
          "status": "completed"
        },
        "tags": [],
        "id": "-G1JsAfj-Oo2"
      },
      "source": [
        "regressor = LinearRegression()"
      ],
      "execution_count": 38,
      "outputs": []
    },
    {
      "cell_type": "markdown",
      "metadata": {
        "papermill": {
          "duration": 0.104833,
          "end_time": "2020-11-28T09:01:43.305401",
          "exception": false,
          "start_time": "2020-11-28T09:01:43.200568",
          "status": "completed"
        },
        "tags": [],
        "id": "bP7Ad2J0-Oo2"
      },
      "source": [
        "###  Fitting Linear Regression Model"
      ]
    },
    {
      "cell_type": "code",
      "metadata": {
        "execution": {
          "iopub.execute_input": "2020-11-28T09:01:43.566310Z",
          "iopub.status.busy": "2020-11-28T09:01:43.520736Z",
          "iopub.status.idle": "2020-11-28T09:01:43.569597Z",
          "shell.execute_reply": "2020-11-28T09:01:43.568949Z"
        },
        "papermill": {
          "duration": 0.158596,
          "end_time": "2020-11-28T09:01:43.569753",
          "exception": false,
          "start_time": "2020-11-28T09:01:43.411157",
          "status": "completed"
        },
        "tags": [],
        "id": "yQYrfSdK-Oo2"
      },
      "source": [
        "# Model Training\n",
        "regressor.fit(xtrain, ytrain)\n",
        "\n",
        "#Model Prediction\n",
        "y_pred_linear = regressor.predict(xtest) "
      ],
      "execution_count": 39,
      "outputs": []
    },
    {
      "cell_type": "markdown",
      "metadata": {
        "papermill": {
          "duration": 0.103107,
          "end_time": "2020-11-28T09:01:43.777274",
          "exception": false,
          "start_time": "2020-11-28T09:01:43.674167",
          "status": "completed"
        },
        "tags": [],
        "id": "0ckSstXc-Oo2"
      },
      "source": [
        "### Linear Regression Evaluation"
      ]
    },
    {
      "cell_type": "code",
      "metadata": {
        "execution": {
          "iopub.execute_input": "2020-11-28T09:01:44.002365Z",
          "iopub.status.busy": "2020-11-28T09:01:43.999965Z",
          "iopub.status.idle": "2020-11-28T09:01:44.151806Z",
          "shell.execute_reply": "2020-11-28T09:01:44.151140Z"
        },
        "papermill": {
          "duration": 0.271928,
          "end_time": "2020-11-28T09:01:44.151921",
          "exception": false,
          "start_time": "2020-11-28T09:01:43.879993",
          "status": "completed"
        },
        "tags": [],
        "colab": {
          "base_uri": "https://localhost:8080/",
          "height": 299
        },
        "id": "C7N9j0ST-Oo2",
        "outputId": "a3fcbb09-eefd-46b1-e38d-cfc1d3dcf1b6"
      },
      "source": [
        "plt.style.use('ggplot')\n",
        "plt.scatter(ytest, y_pred_linear, c = 'blue') \n",
        "plt.xlabel(\"Expected\") \n",
        "plt.ylabel(\"Predicted value\") \n",
        "plt.title(\"True value vs predicted value : Linear Regression\") \n",
        "plt.show() "
      ],
      "execution_count": 40,
      "outputs": [
        {
          "output_type": "display_data",
          "data": {
            "image/png": "[encoded data removed]",
            "text/plain": [
              "<Figure size 432x288 with 1 Axes>"
            ]
          },
          "metadata": {
            "tags": []
          }
        }
      ]
    },
    {
      "cell_type": "code",
      "metadata": {
        "execution": {
          "iopub.execute_input": "2020-11-28T09:01:44.372484Z",
          "iopub.status.busy": "2020-11-28T09:01:44.371580Z",
          "iopub.status.idle": "2020-11-28T09:01:44.375952Z",
          "shell.execute_reply": "2020-11-28T09:01:44.375003Z"
        },
        "papermill": {
          "duration": 0.118047,
          "end_time": "2020-11-28T09:01:44.376073",
          "exception": false,
          "start_time": "2020-11-28T09:01:44.258026",
          "status": "completed"
        },
        "tags": [],
        "colab": {
          "base_uri": "https://localhost:8080/"
        },
        "id": "Svvy6gKd-Oo2",
        "outputId": "22bb4981-6d7a-49b3-a19c-f24e1a818570"
      },
      "source": [
        "print('\\033[1mMean Squared Error is:\\033[0m', metrics.mean_squared_error(ytest, y_pred_linear))  \n",
        "print('\\033[1mMean Absolute Error is:\\033[0m', metrics.mean_absolute_error(ytest, y_pred_linear))  \n",
        "print('\\033[1mRoot Mean Squared Error is:\\033[0m', np.sqrt(metrics.mean_squared_error(ytest, y_pred_linear)))\n"
      ],
      "execution_count": 41,
      "outputs": [
        {
          "output_type": "stream",
          "text": [
            "\u001b[1mMean Squared Error is:\u001b[0m 0.12910942838286774\n",
            "\u001b[1mMean Absolute Error is:\u001b[0m 0.24083732522012827\n",
            "\u001b[1mRoot Mean Squared Error is:\u001b[0m 0.35931800453479606\n"
          ],
          "name": "stdout"
        }
      ]
    },
    {
      "cell_type": "markdown",
      "metadata": {
        "id": "V4dqAqUk6VhV"
      },
      "source": [
        "# Accuracy score"
      ]
    },
    {
      "cell_type": "code",
      "metadata": {
        "colab": {
          "base_uri": "https://localhost:8080/"
        },
        "id": "zFbbJnkj53WC",
        "outputId": "da1c40ed-2fed-4b62-f48e-f2e272d1cf63"
      },
      "source": [
        "regressor.score(xtest, ytest)"
      ],
      "execution_count": 42,
      "outputs": [
        {
          "output_type": "execute_result",
          "data": {
            "text/plain": [
              "0.8961315121069682"
            ]
          },
          "metadata": {
            "tags": []
          },
          "execution_count": 42
        }
      ]
    },
    {
      "cell_type": "code",
      "metadata": {
        "execution": {
          "iopub.execute_input": "2020-11-28T09:01:44.597564Z",
          "iopub.status.busy": "2020-11-28T09:01:44.596734Z",
          "iopub.status.idle": "2020-11-28T09:01:44.600751Z",
          "shell.execute_reply": "2020-11-28T09:01:44.600226Z"
        },
        "papermill": {
          "duration": 0.115967,
          "end_time": "2020-11-28T09:01:44.600864",
          "exception": false,
          "start_time": "2020-11-28T09:01:44.484897",
          "status": "completed"
        },
        "tags": [],
        "colab": {
          "base_uri": "https://localhost:8080/"
        },
        "id": "6F6DCzH1-Oo2",
        "outputId": "d8f9a207-c8e4-40c2-a94a-9057782402bd"
      },
      "source": [
        "regressor.coef_"
      ],
      "execution_count": 43,
      "outputs": [
        {
          "output_type": "execute_result",
          "data": {
            "text/plain": [
              "array([-8.78218272e-02,  1.37482889e-01, -1.41884551e-02, -1.72519170e-02,\n",
              "        2.47100192e-02,  3.14604809e-01,  9.56899810e-01,  6.48449851e-01,\n",
              "       -2.08021659e-01, -2.99217151e-01, -3.65505362e-02, -6.94762062e-02,\n",
              "        2.64575168e-01, -1.09863168e-01, -2.93561060e-01, -3.32123289e-01,\n",
              "       -9.16948973e-02, -2.23596087e-01, -3.15968543e-01,  7.35189294e-01,\n",
              "       -2.52890412e-01,  1.95831622e-01, -5.46838229e-01, -2.97886530e-01,\n",
              "       -1.29155790e-01,  6.65829853e-02, -1.59595648e-01, -1.53385660e-01,\n",
              "       -1.88308905e-01,  2.02782453e-01, -4.23487209e-02,  2.69240531e-01,\n",
              "        3.78434205e-01,  1.57581118e-01, -6.72590423e-01,  2.66659215e-01,\n",
              "       -1.02766512e+00,  3.46570585e-01, -1.38989960e-01,  1.17656459e-01,\n",
              "       -1.39306431e-02, -3.40388330e-02,  2.10376965e-04, -8.93000595e-02,\n",
              "        7.19795025e-02,  1.12457446e-01,  1.39306431e-02, -2.23596087e-01,\n",
              "       -1.02179567e-01,  7.72520675e-02, -1.00117378e-02,  4.80826889e-01,\n",
              "       -1.72232132e-01,  4.40022373e-01,  5.12907500e-02, -3.51368204e-02,\n",
              "       -2.47072215e-01, -2.16311816e-03, -2.23126327e-02, -2.80500848e-02,\n",
              "        0.00000000e+00, -4.38275871e-01,  4.40022373e-01, -1.45014029e-01,\n",
              "        1.10416926e-01])"
            ]
          },
          "metadata": {
            "tags": []
          },
          "execution_count": 43
        }
      ]
    },
    {
      "cell_type": "markdown",
      "metadata": {
        "papermill": {
          "duration": 0.10344,
          "end_time": "2020-11-28T09:01:44.808289",
          "exception": false,
          "start_time": "2020-11-28T09:01:44.704849",
          "status": "completed"
        },
        "tags": [],
        "id": "x8x7ee3A-Oo2"
      },
      "source": [
        "### Visualization of Actual vs Predicted Values"
      ]
    },
    {
      "cell_type": "code",
      "metadata": {
        "execution": {
          "iopub.execute_input": "2020-11-28T09:01:45.024578Z",
          "iopub.status.busy": "2020-11-28T09:01:45.023702Z",
          "iopub.status.idle": "2020-11-28T09:01:45.025834Z",
          "shell.execute_reply": "2020-11-28T09:01:45.026378Z"
        },
        "papermill": {
          "duration": 0.114319,
          "end_time": "2020-11-28T09:01:45.026515",
          "exception": false,
          "start_time": "2020-11-28T09:01:44.912196",
          "status": "completed"
        },
        "tags": [],
        "id": "hRnjtdeM-Oo2"
      },
      "source": [
        "df = pd.DataFrame({'Actual': ytest.flatten(), 'Predicted': y_pred_linear.flatten()})"
      ],
      "execution_count": 44,
      "outputs": []
    },
    {
      "cell_type": "code",
      "metadata": {
        "execution": {
          "iopub.execute_input": "2020-11-28T09:01:45.253085Z",
          "iopub.status.busy": "2020-11-28T09:01:45.252341Z",
          "iopub.status.idle": "2020-11-28T09:01:45.256339Z",
          "shell.execute_reply": "2020-11-28T09:01:45.255782Z"
        },
        "papermill": {
          "duration": 0.120717,
          "end_time": "2020-11-28T09:01:45.256457",
          "exception": false,
          "start_time": "2020-11-28T09:01:45.135740",
          "status": "completed"
        },
        "tags": [],
        "colab": {
          "base_uri": "https://localhost:8080/",
          "height": 343
        },
        "id": "njanEjs3-Oo2",
        "outputId": "c3ea9a13-35d4-4e4c-a8c6-5ed8b67d5f0d"
      },
      "source": [
        "df.head(10)"
      ],
      "execution_count": 45,
      "outputs": [
        {
          "output_type": "execute_result",
          "data": {
            "text/html": [
              "<div>\n",
              "<style scoped>\n",
              "    .dataframe tbody tr th:only-of-type {\n",
              "        vertical-align: middle;\n",
              "    }\n",
              "\n",
              "    .dataframe tbody tr th {\n",
              "        vertical-align: top;\n",
              "    }\n",
              "\n",
              "    .dataframe thead th {\n",
              "        text-align: right;\n",
              "    }\n",
              "</style>\n",
              "<table border=\"1\" class=\"dataframe\">\n",
              "  <thead>\n",
              "    <tr style=\"text-align: right;\">\n",
              "      <th></th>\n",
              "      <th>Actual</th>\n",
              "      <th>Predicted</th>\n",
              "    </tr>\n",
              "  </thead>\n",
              "  <tbody>\n",
              "    <tr>\n",
              "      <th>0</th>\n",
              "      <td>2.193818</td>\n",
              "      <td>1.874104</td>\n",
              "    </tr>\n",
              "    <tr>\n",
              "      <th>1</th>\n",
              "      <td>0.575011</td>\n",
              "      <td>0.999023</td>\n",
              "    </tr>\n",
              "    <tr>\n",
              "      <th>2</th>\n",
              "      <td>-0.467756</td>\n",
              "      <td>-0.315031</td>\n",
              "    </tr>\n",
              "    <tr>\n",
              "      <th>3</th>\n",
              "      <td>-0.179025</td>\n",
              "      <td>-0.091869</td>\n",
              "    </tr>\n",
              "    <tr>\n",
              "      <th>4</th>\n",
              "      <td>1.878610</td>\n",
              "      <td>2.118194</td>\n",
              "    </tr>\n",
              "    <tr>\n",
              "      <th>5</th>\n",
              "      <td>-0.687348</td>\n",
              "      <td>-0.818396</td>\n",
              "    </tr>\n",
              "    <tr>\n",
              "      <th>6</th>\n",
              "      <td>-0.688728</td>\n",
              "      <td>-0.800839</td>\n",
              "    </tr>\n",
              "    <tr>\n",
              "      <th>7</th>\n",
              "      <td>-0.504271</td>\n",
              "      <td>-0.821522</td>\n",
              "    </tr>\n",
              "    <tr>\n",
              "      <th>8</th>\n",
              "      <td>-0.386319</td>\n",
              "      <td>-0.615983</td>\n",
              "    </tr>\n",
              "    <tr>\n",
              "      <th>9</th>\n",
              "      <td>-0.690359</td>\n",
              "      <td>-0.558527</td>\n",
              "    </tr>\n",
              "  </tbody>\n",
              "</table>\n",
              "</div>"
            ],
            "text/plain": [
              "     Actual  Predicted\n",
              "0  2.193818   1.874104\n",
              "1  0.575011   0.999023\n",
              "2 -0.467756  -0.315031\n",
              "3 -0.179025  -0.091869\n",
              "4  1.878610   2.118194\n",
              "5 -0.687348  -0.818396\n",
              "6 -0.688728  -0.800839\n",
              "7 -0.504271  -0.821522\n",
              "8 -0.386319  -0.615983\n",
              "9 -0.690359  -0.558527"
            ]
          },
          "metadata": {
            "tags": []
          },
          "execution_count": 45
        }
      ]
    },
    {
      "cell_type": "code",
      "metadata": {
        "execution": {
          "iopub.execute_input": "2020-11-28T09:01:45.479628Z",
          "iopub.status.busy": "2020-11-28T09:01:45.478868Z",
          "iopub.status.idle": "2020-11-28T09:01:46.068790Z",
          "shell.execute_reply": "2020-11-28T09:01:46.069403Z"
        },
        "papermill": {
          "duration": 0.705041,
          "end_time": "2020-11-28T09:01:46.069552",
          "exception": false,
          "start_time": "2020-11-28T09:01:45.364511",
          "status": "completed"
        },
        "tags": [],
        "colab": {
          "base_uri": "https://localhost:8080/",
          "height": 339
        },
        "id": "UyQzYoYS-Oo2",
        "outputId": "7b121e4d-0882-4d0c-e871-a12d907f7790"
      },
      "source": [
        "df = df.head(25)\n",
        "df.plot(kind='bar',figsize=(10,5))\n",
        "plt.grid(which='major', linestyle=':', linewidth='0.99', color='black')\n",
        "plt.xlabel(\"No. of Records\")\n",
        "plt.ylabel(\"Values\")\n",
        "plt.show()"
      ],
      "execution_count": 46,
      "outputs": [
        {
          "output_type": "display_data",
          "data": {
            "image/png": "[encoded data removed]",
            "text/plain": [
              "<Figure size 720x360 with 1 Axes>"
            ]
          },
          "metadata": {
            "tags": []
          }
        }
      ]
    },
    {
      "cell_type": "markdown",
      "metadata": {
        "papermill": {
          "duration": 0.115519,
          "end_time": "2020-11-28T09:01:58.672410",
          "exception": false,
          "start_time": "2020-11-28T09:01:58.556891",
          "status": "completed"
        },
        "tags": [],
        "id": "t-rktZh8-Oo3"
      },
      "source": [
        "## Random Forest Classifier"
      ]
    },
    {
      "cell_type": "markdown",
      "metadata": {
        "papermill": {
          "duration": 0.118017,
          "end_time": "2020-11-28T09:01:58.905952",
          "exception": false,
          "start_time": "2020-11-28T09:01:58.787935",
          "status": "completed"
        },
        "tags": [],
        "id": "ne9CbUkv-Oo4"
      },
      "source": [
        "### 8.8.1 Building Classifer for Random Forest"
      ]
    },
    {
      "cell_type": "code",
      "metadata": {
        "execution": {
          "iopub.execute_input": "2020-11-28T09:01:59.165995Z",
          "iopub.status.busy": "2020-11-28T09:01:59.165187Z",
          "iopub.status.idle": "2020-11-28T09:01:59.185712Z",
          "shell.execute_reply": "2020-11-28T09:01:59.185041Z"
        },
        "papermill": {
          "duration": 0.144519,
          "end_time": "2020-11-28T09:01:59.185861",
          "exception": false,
          "start_time": "2020-11-28T09:01:59.041342",
          "status": "completed"
        },
        "tags": [],
        "id": "DH5cEFui-Oo4"
      },
      "source": [
        "# Categorizing Target variable as High for income >11000 and Low for  <11000\n",
        "y2 =np.where(labeel_for_DS>11000, 'High',\"Low\") \n",
        "\n",
        "#Manual Encoding of Target Varibale\n",
        "y2 = np.where(y2=='High',1,0)"
      ],
      "execution_count": 47,
      "outputs": []
    },
    {
      "cell_type": "markdown",
      "metadata": {
        "papermill": {
          "duration": 0.117018,
          "end_time": "2020-11-28T09:01:59.421486",
          "exception": false,
          "start_time": "2020-11-28T09:01:59.304468",
          "status": "completed"
        },
        "tags": [],
        "id": "FPgd5Iiz-Oo4"
      },
      "source": [
        "### Train Test Split"
      ]
    },
    {
      "cell_type": "code",
      "metadata": {
        "execution": {
          "iopub.execute_input": "2020-11-28T09:01:59.661219Z",
          "iopub.status.busy": "2020-11-28T09:01:59.660512Z",
          "iopub.status.idle": "2020-11-28T09:01:59.664070Z",
          "shell.execute_reply": "2020-11-28T09:01:59.663525Z"
        },
        "papermill": {
          "duration": 0.127333,
          "end_time": "2020-11-28T09:01:59.664171",
          "exception": false,
          "start_time": "2020-11-28T09:01:59.536838",
          "status": "completed"
        },
        "tags": [],
        "id": "YE-SEhr0-Oo4"
      },
      "source": [
        "xtrain2,xtest2,ytrain2,ytest2 = train_test_split(x,y2,test_size=0.3, random_state=42 )"
      ],
      "execution_count": 48,
      "outputs": []
    },
    {
      "cell_type": "code",
      "metadata": {
        "execution": {
          "iopub.execute_input": "2020-11-28T09:01:59.906263Z",
          "iopub.status.busy": "2020-11-28T09:01:59.905540Z",
          "iopub.status.idle": "2020-11-28T09:01:59.909033Z",
          "shell.execute_reply": "2020-11-28T09:01:59.909625Z"
        },
        "papermill": {
          "duration": 0.128194,
          "end_time": "2020-11-28T09:01:59.909764",
          "exception": false,
          "start_time": "2020-11-28T09:01:59.781570",
          "status": "completed"
        },
        "tags": [],
        "colab": {
          "base_uri": "https://localhost:8080/"
        },
        "id": "oL3tMNf0-Oo4",
        "outputId": "52b2de62-eb86-4e50-c35a-6ea33bb63775"
      },
      "source": [
        "print(xtrain2.shape,xtest2.shape,ytrain2.shape,ytest2.shape)"
      ],
      "execution_count": 49,
      "outputs": [
        {
          "output_type": "stream",
          "text": [
            "(143, 65) (62, 65) (143,) (62,)\n"
          ],
          "name": "stdout"
        }
      ]
    },
    {
      "cell_type": "markdown",
      "metadata": {
        "papermill": {
          "duration": 0.118279,
          "end_time": "2020-11-28T09:02:00.146866",
          "exception": false,
          "start_time": "2020-11-28T09:02:00.028587",
          "status": "completed"
        },
        "tags": [],
        "id": "5j7lfa3Y-Oo4"
      },
      "source": [
        "### Applying Random Forest Classifier"
      ]
    },
    {
      "cell_type": "code",
      "metadata": {
        "execution": {
          "iopub.execute_input": "2020-11-28T09:02:00.408364Z",
          "iopub.status.busy": "2020-11-28T09:02:00.398109Z",
          "iopub.status.idle": "2020-11-28T09:02:00.599873Z",
          "shell.execute_reply": "2020-11-28T09:02:00.599258Z"
        },
        "papermill": {
          "duration": 0.336844,
          "end_time": "2020-11-28T09:02:00.599984",
          "exception": false,
          "start_time": "2020-11-28T09:02:00.263140",
          "status": "completed"
        },
        "tags": [],
        "id": "zT_8vXys-Oo4"
      },
      "source": [
        "from sklearn.ensemble import RandomForestClassifier\n",
        "rfc = RandomForestClassifier()\n",
        "model = rfc.fit(xtrain2, ytrain2)\n",
        "y_pred_rfc = rfc.predict(xtest2)"
      ],
      "execution_count": 50,
      "outputs": []
    },
    {
      "cell_type": "code",
      "metadata": {
        "colab": {
          "base_uri": "https://localhost:8080/"
        },
        "id": "ADMEccVoyV-S",
        "outputId": "46b4b813-cfcd-4ca8-8a9a-828da07b0413"
      },
      "source": [
        "y_pred_rfc"
      ],
      "execution_count": 51,
      "outputs": [
        {
          "output_type": "execute_result",
          "data": {
            "text/plain": [
              "array([1, 1, 0, 1, 1, 0, 0, 0, 0, 0, 1, 0, 1, 0, 1, 0, 0, 1, 0, 0, 0, 1,\n",
              "       0, 0, 0, 1, 0, 1, 0, 1, 1, 0, 0, 1, 0, 1, 1, 1, 0, 1, 0, 1, 1, 0,\n",
              "       0, 0, 0, 0, 1, 1, 0, 1, 0, 0, 0, 1, 0, 1, 1, 0, 0, 1])"
            ]
          },
          "metadata": {
            "tags": []
          },
          "execution_count": 51
        }
      ]
    },
    {
      "cell_type": "code",
      "metadata": {
        "colab": {
          "base_uri": "https://localhost:8080/",
          "height": 195
        },
        "id": "gQa5ebiTx_T2",
        "outputId": "ae1517bd-9d68-4055-dc71-5f84e92ece91"
      },
      "source": [
        "df = pd.DataFrame({'Actual': ytest2.flatten(), 'Predicted': y_pred_rfc.flatten()})\n",
        "df.head()"
      ],
      "execution_count": 52,
      "outputs": [
        {
          "output_type": "execute_result",
          "data": {
            "text/html": [
              "<div>\n",
              "<style scoped>\n",
              "    .dataframe tbody tr th:only-of-type {\n",
              "        vertical-align: middle;\n",
              "    }\n",
              "\n",
              "    .dataframe tbody tr th {\n",
              "        vertical-align: top;\n",
              "    }\n",
              "\n",
              "    .dataframe thead th {\n",
              "        text-align: right;\n",
              "    }\n",
              "</style>\n",
              "<table border=\"1\" class=\"dataframe\">\n",
              "  <thead>\n",
              "    <tr style=\"text-align: right;\">\n",
              "      <th></th>\n",
              "      <th>Actual</th>\n",
              "      <th>Predicted</th>\n",
              "    </tr>\n",
              "  </thead>\n",
              "  <tbody>\n",
              "    <tr>\n",
              "      <th>0</th>\n",
              "      <td>1</td>\n",
              "      <td>1</td>\n",
              "    </tr>\n",
              "    <tr>\n",
              "      <th>1</th>\n",
              "      <td>1</td>\n",
              "      <td>1</td>\n",
              "    </tr>\n",
              "    <tr>\n",
              "      <th>2</th>\n",
              "      <td>0</td>\n",
              "      <td>0</td>\n",
              "    </tr>\n",
              "    <tr>\n",
              "      <th>3</th>\n",
              "      <td>1</td>\n",
              "      <td>1</td>\n",
              "    </tr>\n",
              "    <tr>\n",
              "      <th>4</th>\n",
              "      <td>1</td>\n",
              "      <td>1</td>\n",
              "    </tr>\n",
              "  </tbody>\n",
              "</table>\n",
              "</div>"
            ],
            "text/plain": [
              "   Actual  Predicted\n",
              "0       1          1\n",
              "1       1          1\n",
              "2       0          0\n",
              "3       1          1\n",
              "4       1          1"
            ]
          },
          "metadata": {
            "tags": []
          },
          "execution_count": 52
        }
      ]
    },
    {
      "cell_type": "markdown",
      "metadata": {
        "papermill": {
          "duration": 0.1171,
          "end_time": "2020-11-28T09:02:00.836163",
          "exception": false,
          "start_time": "2020-11-28T09:02:00.719063",
          "status": "completed"
        },
        "tags": [],
        "id": "_lJzzOTz-Oo4"
      },
      "source": [
        "###  Random Forest Classifier Evaluation:"
      ]
    },
    {
      "cell_type": "markdown",
      "metadata": {
        "papermill": {
          "duration": 0.117841,
          "end_time": "2020-11-28T09:02:01.069982",
          "exception": false,
          "start_time": "2020-11-28T09:02:00.952141",
          "status": "completed"
        },
        "tags": [],
        "id": "t8Cz3Aaf-Oo4"
      },
      "source": [
        "#### Classification Report"
      ]
    },
    {
      "cell_type": "code",
      "metadata": {
        "execution": {
          "iopub.execute_input": "2020-11-28T09:02:01.321909Z",
          "iopub.status.busy": "2020-11-28T09:02:01.321229Z",
          "iopub.status.idle": "2020-11-28T09:02:01.329540Z",
          "shell.execute_reply": "2020-11-28T09:02:01.328633Z"
        },
        "papermill": {
          "duration": 0.136874,
          "end_time": "2020-11-28T09:02:01.329705",
          "exception": false,
          "start_time": "2020-11-28T09:02:01.192831",
          "status": "completed"
        },
        "tags": [],
        "colab": {
          "base_uri": "https://localhost:8080/"
        },
        "id": "FSxMDlr6-Oo4",
        "outputId": "236ba15e-fdd9-4e06-9ee2-def63eb17e1f"
      },
      "source": [
        "print (\"\\n \\033[1m Classification report : \\033[0m\\n\",classification_report(ytest2, y_pred_rfc))\n",
        "print (\"\\n \\033[1m Accuracy : \\033[0m\\n\",metrics.accuracy_score(ytest2, y_pred_rfc))"
      ],
      "execution_count": 61,
      "outputs": [
        {
          "output_type": "stream",
          "text": [
            "\n",
            " \u001b[1m Classification report : \u001b[0m\n",
            "               precision    recall  f1-score   support\n",
            "\n",
            "           0       1.00      0.97      0.99        36\n",
            "           1       0.96      1.00      0.98        26\n",
            "\n",
            "    accuracy                           0.98        62\n",
            "   macro avg       0.98      0.99      0.98        62\n",
            "weighted avg       0.98      0.98      0.98        62\n",
            "\n",
            "\n",
            " \u001b[1m Accuracy : \u001b[0m\n",
            " 0.9838709677419355\n"
          ],
          "name": "stdout"
        }
      ]
    },
    {
      "cell_type": "markdown",
      "metadata": {
        "papermill": {
          "duration": 0.116788,
          "end_time": "2020-11-28T09:02:01.568552",
          "exception": false,
          "start_time": "2020-11-28T09:02:01.451764",
          "status": "completed"
        },
        "tags": [],
        "id": "oZPMT4T9-Oo4"
      },
      "source": [
        "#### Confusion Matrix"
      ]
    },
    {
      "cell_type": "code",
      "metadata": {
        "execution": {
          "iopub.execute_input": "2020-11-28T09:02:01.826219Z",
          "iopub.status.busy": "2020-11-28T09:02:01.820339Z",
          "iopub.status.idle": "2020-11-28T09:02:01.982041Z",
          "shell.execute_reply": "2020-11-28T09:02:01.982641Z"
        },
        "papermill": {
          "duration": 0.290495,
          "end_time": "2020-11-28T09:02:01.982790",
          "exception": false,
          "start_time": "2020-11-28T09:02:01.692295",
          "status": "completed"
        },
        "tags": [],
        "colab": {
          "base_uri": "https://localhost:8080/",
          "height": 286
        },
        "id": "8wFJvI0V-Oo4",
        "outputId": "535fb49c-518f-4fda-cf3b-bf2d2c276b7d"
      },
      "source": [
        "plt.style.use('ggplot')\n",
        "cf_matrix = confusion_matrix(y_pred_rfc, ytest2)\n",
        "x_y_labels = ['High','Low']\n",
        "sns.heatmap(cf_matrix.T, square=True, annot=True, xticklabels=x_y_labels, yticklabels=x_y_labels)\n",
        "plt.xlabel('Predicted label')\n",
        "plt.ylabel('Actual label');"
      ],
      "execution_count": 54,
      "outputs": [
        {
          "output_type": "display_data",
          "data": {
            "image/png": "[encoded data removed]",
            "text/plain": [
              "<Figure size 432x288 with 2 Axes>"
            ]
          },
          "metadata": {
            "tags": []
          }
        }
      ]
    },
    {
      "cell_type": "markdown",
      "metadata": {
        "id": "uBdqAG-T8Cwi"
      },
      "source": [
        "#Ridge Regression\n"
      ]
    },
    {
      "cell_type": "code",
      "metadata": {
        "id": "xnCalklH8LWj"
      },
      "source": [
        "from sklearn.linear_model import Ridge\n",
        "from sklearn.model_selection import GridSearchCV"
      ],
      "execution_count": 55,
      "outputs": []
    },
    {
      "cell_type": "markdown",
      "metadata": {
        "id": "eYZT53_D8PxO"
      },
      "source": [
        "#Applying Ridge Regression\n"
      ]
    },
    {
      "cell_type": "code",
      "metadata": {
        "id": "4WxRfVDB8Ogk"
      },
      "source": [
        "ridge = Ridge()\n",
        "parameters = {'alpha': [1e-15,1e-10,1e-8,1e-5,1e-4,1e-3,1e-2,1,5,10,20,30,40,45,50,55,60,100]}\n",
        "ridge_regressor = GridSearchCV(ridge, parameters, scoring='neg_mean_squared_error', cv=5)\n",
        "ridge_regressor.fit(xtrain,ytrain);"
      ],
      "execution_count": 56,
      "outputs": []
    },
    {
      "cell_type": "code",
      "metadata": {
        "colab": {
          "base_uri": "https://localhost:8080/"
        },
        "id": "zz8bVJHU83cO",
        "outputId": "dd2e53ac-833a-4922-9aa7-6a448d1bc391"
      },
      "source": [
        "print(\"The best fit alpha value is found out to be :\" ,ridge_regressor.best_params_)\n",
        "print(\"\\nUsing \",ridge_regressor.best_params_, \" the negative mean squared error is: \", ridge_regressor.best_score_)"
      ],
      "execution_count": 57,
      "outputs": [
        {
          "output_type": "stream",
          "text": [
            "The best fit alpha value is found out to be : {'alpha': 1}\n",
            "\n",
            "Using  {'alpha': 1}  the negative mean squared error is:  -0.09068315293486875\n"
          ],
          "name": "stdout"
        }
      ]
    },
    {
      "cell_type": "markdown",
      "metadata": {
        "id": "MuPES4Rc9CHh"
      },
      "source": [
        "#Model Prediction"
      ]
    },
    {
      "cell_type": "code",
      "metadata": {
        "id": "g4tH5a2e87Xm"
      },
      "source": [
        "y_pred_ridge = ridge_regressor.predict(xtest)"
      ],
      "execution_count": 58,
      "outputs": []
    },
    {
      "cell_type": "markdown",
      "metadata": {
        "id": "19tppput9F8t"
      },
      "source": [
        "#Ridge Regressor Evaluation"
      ]
    },
    {
      "cell_type": "code",
      "metadata": {
        "colab": {
          "base_uri": "https://localhost:8080/"
        },
        "id": "uYEsj84Z9HJe",
        "outputId": "3ea12ab3-ddcd-423a-bfcb-30e70641a1c7"
      },
      "source": [
        "print(\"\\033[1mUSING ALPHA =1\")\n",
        "print(\"\\nMean Sqaured Error for Ridge Regression is : \\033[0m\", metrics.mean_squared_error(ytest, y_pred_ridge))"
      ],
      "execution_count": 59,
      "outputs": [
        {
          "output_type": "stream",
          "text": [
            "\u001b[1mUSING ALPHA =1\n",
            "\n",
            "Mean Sqaured Error for Ridge Regression is : \u001b[0m 0.12570612468469453\n"
          ],
          "name": "stdout"
        }
      ]
    },
    {
      "cell_type": "markdown",
      "metadata": {
        "id": "UX8OX7vD9MbZ"
      },
      "source": [
        "# Actual vs Predicted"
      ]
    },
    {
      "cell_type": "code",
      "metadata": {
        "colab": {
          "base_uri": "https://localhost:8080/",
          "height": 320
        },
        "id": "OepKpkOO9J2n",
        "outputId": "507749fe-025e-4a1d-a822-160f52871bb0"
      },
      "source": [
        "plt.figure(figsize=(8,5))\n",
        "plt.plot(y_pred_ridge)\n",
        "plt.plot(ytest)\n",
        "plt.legend([\"Predicted\",\"Actual\"])\n",
        "plt.show()"
      ],
      "execution_count": 60,
      "outputs": [
        {
          "output_type": "display_data",
          "data": {
            "image/png": "[encoded data removed]",
            "text/plain": [
              "<Figure size 576x360 with 1 Axes>"
            ]
          },
          "metadata": {
            "tags": []
          }
        }
      ]
    }
  ]
}